{
 "cells": [
  {
   "cell_type": "code",
   "execution_count": 2,
   "id": "3f416c81",
   "metadata": {},
   "outputs": [],
   "source": [
    "import numpy as np\n",
    "import snap "
   ]
  },
  {
   "cell_type": "code",
   "execution_count": 13,
   "id": "a1650b53",
   "metadata": {},
   "outputs": [],
   "source": [
    "path_pokec_dataset = 'Datasets/soc-pokec-relationships.txt'\n",
    "pokec_dataset = snap.LoadEdgeList(snap.TNGraph, path_pokec_dataset, 0, 1)"
   ]
  },
  {
   "cell_type": "code",
   "execution_count": 22,
   "id": "fb0a240a",
   "metadata": {},
   "outputs": [
    {
     "name": "stdout",
     "output_type": "stream",
     "text": [
      "number of nodes: 1632803\n"
     ]
    }
   ],
   "source": [
    "counterNodes = 0\n",
    "for NI in pokec_dataset.Nodes():\n",
    "    counterNodes = counterNodes + 1\n",
    "    #print(\"node: %d, out-degree %d, in-degree %d\" % (NI.GetId(), NI.GetOutDeg(), NI.GetInDeg()))\n",
    "    \n",
    "print(f'number of nodes: {counterNodes}')"
   ]
  },
  {
   "cell_type": "code",
   "execution_count": 18,
   "id": "021320f6",
   "metadata": {},
   "outputs": [
    {
     "name": "stdout",
     "output_type": "stream",
     "text": [
      "True\n"
     ]
    }
   ],
   "source": [
    "connected = pokec_dataset.IsConnected()\n",
    "print(connected)\n",
    "print()"
   ]
  },
  {
   "cell_type": "code",
   "execution_count": null,
   "id": "0e779f0b",
   "metadata": {},
   "outputs": [],
   "source": []
  }
 ],
 "metadata": {
  "kernelspec": {
   "display_name": "Python 3 (ipykernel)",
   "language": "python",
   "name": "python3"
  },
  "language_info": {
   "codemirror_mode": {
    "name": "ipython",
    "version": 3
   },
   "file_extension": ".py",
   "mimetype": "text/x-python",
   "name": "python",
   "nbconvert_exporter": "python",
   "pygments_lexer": "ipython3",
   "version": "3.8.18"
  }
 },
 "nbformat": 4,
 "nbformat_minor": 5
}
