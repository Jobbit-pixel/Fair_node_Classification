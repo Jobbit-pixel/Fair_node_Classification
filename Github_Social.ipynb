{
 "cells": [
  {
   "cell_type": "code",
   "execution_count": 35,
   "id": "bf36a634",
   "metadata": {},
   "outputs": [],
   "source": [
    "import snap \n",
    "import csv\n",
    "import pandas as pd\n",
    "import random\n",
    "import networkx as nx\n",
    "from node2vec import Node2Vec\n",
    "#from deepwalk import DeepWalk\n",
    "#from graphembedding.sdne import SDNE\n",
    "#from gem.embedding.hope import HOPE\n",
    "\n",
    "import numpy as np\n",
    "from sklearn.model_selection import train_test_split\n",
    "from sklearn.svm import SVC\n",
    "from sklearn.metrics import accuracy_score, classification_report\n",
    "from sklearn.model_selection import ParameterGrid\n",
    "from scipy.sparse import coo_matrix\n",
    "\n",
    "\n",
    "%run Fairness.ipynb\n",
    "%run Embeddings_Classification.ipynb"
   ]
  },
  {
   "cell_type": "markdown",
   "id": "5822d504",
   "metadata": {},
   "source": [
    "https://snap.stanford.edu/data/github-social.html "
   ]
  },
  {
   "cell_type": "markdown",
   "id": "d095d2c7",
   "metadata": {},
   "source": [
    "Read the file with the edges and the files with the target/attribute "
   ]
  },
  {
   "cell_type": "code",
   "execution_count": 2,
   "id": "49e5cf13",
   "metadata": {},
   "outputs": [],
   "source": [
    "path_edges = 'Datasets/git_web_ml/musae_git_edges.csv'\n",
    "path_target = 'Datasets/git_web_ml/musae_git_target.csv'"
   ]
  },
  {
   "cell_type": "markdown",
   "id": "91c96305",
   "metadata": {},
   "source": [
    "create graph based of the edge file"
   ]
  },
  {
   "cell_type": "code",
   "execution_count": 3,
   "id": "e5356043",
   "metadata": {},
   "outputs": [],
   "source": [
    "\n",
    "df_graph = pd.read_csv(path_edges)\n",
    "G = nx.from_pandas_edgelist(df_graph, 'id_1', 'id_2')"
   ]
  },
  {
   "cell_type": "code",
   "execution_count": 4,
   "id": "fa56d708",
   "metadata": {},
   "outputs": [
    {
     "name": "stdout",
     "output_type": "stream",
     "text": [
      "37700\n",
      "289003\n"
     ]
    }
   ],
   "source": [
    "print(G.number_of_nodes())\n",
    "print(G.number_of_edges())"
   ]
  },
  {
   "cell_type": "markdown",
   "id": "a6da45e4",
   "metadata": {},
   "source": [
    "create Dataframe based on the csv file"
   ]
  },
  {
   "cell_type": "code",
   "execution_count": 5,
   "id": "3df13451",
   "metadata": {},
   "outputs": [
    {
     "name": "stdout",
     "output_type": "stream",
     "text": [
      "<class 'pandas.core.frame.DataFrame'>\n"
     ]
    }
   ],
   "source": [
    "df = pd.read_csv(path_target)\n",
    "print(type(df))"
   ]
  },
  {
   "cell_type": "code",
   "execution_count": 6,
   "id": "77617102",
   "metadata": {},
   "outputs": [
    {
     "data": {
      "text/html": [
       "<div>\n",
       "<style scoped>\n",
       "    .dataframe tbody tr th:only-of-type {\n",
       "        vertical-align: middle;\n",
       "    }\n",
       "\n",
       "    .dataframe tbody tr th {\n",
       "        vertical-align: top;\n",
       "    }\n",
       "\n",
       "    .dataframe thead th {\n",
       "        text-align: right;\n",
       "    }\n",
       "</style>\n",
       "<table border=\"1\" class=\"dataframe\">\n",
       "  <thead>\n",
       "    <tr style=\"text-align: right;\">\n",
       "      <th></th>\n",
       "      <th>id</th>\n",
       "      <th>name</th>\n",
       "      <th>ml_target</th>\n",
       "    </tr>\n",
       "  </thead>\n",
       "  <tbody>\n",
       "    <tr>\n",
       "      <th>0</th>\n",
       "      <td>0</td>\n",
       "      <td>Eiryyy</td>\n",
       "      <td>0</td>\n",
       "    </tr>\n",
       "    <tr>\n",
       "      <th>1</th>\n",
       "      <td>1</td>\n",
       "      <td>shawflying</td>\n",
       "      <td>0</td>\n",
       "    </tr>\n",
       "    <tr>\n",
       "      <th>2</th>\n",
       "      <td>2</td>\n",
       "      <td>JpMCarrilho</td>\n",
       "      <td>1</td>\n",
       "    </tr>\n",
       "    <tr>\n",
       "      <th>3</th>\n",
       "      <td>3</td>\n",
       "      <td>SuhwanCha</td>\n",
       "      <td>0</td>\n",
       "    </tr>\n",
       "    <tr>\n",
       "      <th>4</th>\n",
       "      <td>4</td>\n",
       "      <td>sunilangadi2</td>\n",
       "      <td>1</td>\n",
       "    </tr>\n",
       "  </tbody>\n",
       "</table>\n",
       "</div>"
      ],
      "text/plain": [
       "   id          name  ml_target\n",
       "0   0        Eiryyy          0\n",
       "1   1    shawflying          0\n",
       "2   2   JpMCarrilho          1\n",
       "3   3     SuhwanCha          0\n",
       "4   4  sunilangadi2          1"
      ]
     },
     "execution_count": 6,
     "metadata": {},
     "output_type": "execute_result"
    }
   ],
   "source": [
    "df.head()"
   ]
  },
  {
   "cell_type": "markdown",
   "id": "77eafe8d",
   "metadata": {},
   "source": [
    "Peform random sample on the list of nodes to get a graph with 1000 files"
   ]
  },
  {
   "cell_type": "code",
   "execution_count": 7,
   "id": "cc3e586c",
   "metadata": {},
   "outputs": [
    {
     "name": "stdout",
     "output_type": "stream",
     "text": [
      "1000\n"
     ]
    }
   ],
   "source": [
    "list_nodes = []\n",
    "for nodes in G.nodes():\n",
    "    list_nodes.append(nodes)\n",
    "random.seed(42)\n",
    "\n",
    "# Perform random sampling\n",
    "sampled_nodes = random.sample(list_nodes, 1000)\n",
    "print(len(sampled_nodes))\n",
    "\n",
    "    \n",
    "    "
   ]
  },
  {
   "cell_type": "code",
   "execution_count": 8,
   "id": "abcaf7d5",
   "metadata": {},
   "outputs": [
    {
     "name": "stdout",
     "output_type": "stream",
     "text": [
      "1000\n"
     ]
    }
   ],
   "source": [
    "G_nx = nx.Graph()\n",
    "for node in sampled_nodes:\n",
    "        G_nx.add_node(node)\n",
    "print(G_nx.number_of_nodes())"
   ]
  },
  {
   "cell_type": "markdown",
   "id": "64c8db75",
   "metadata": {},
   "source": [
    "Add edges to the new sampled Graph "
   ]
  },
  {
   "cell_type": "code",
   "execution_count": 9,
   "id": "243144e5",
   "metadata": {},
   "outputs": [],
   "source": [
    "for node in G_nx.nodes():\n",
    "    node_x_neighbors = set() \n",
    "    for neighbor in G.neighbors(node):\n",
    "        node_x_neighbors.add(neighbor)\n",
    "    for nd in node_x_neighbors:\n",
    "        if node != nd and G_nx.has_node(nd):\n",
    "                G_nx.add_edge(node, nd)\n"
   ]
  },
  {
   "cell_type": "code",
   "execution_count": 10,
   "id": "1ef784fc",
   "metadata": {},
   "outputs": [
    {
     "name": "stdout",
     "output_type": "stream",
     "text": [
      "131\n"
     ]
    }
   ],
   "source": [
    "print(G_nx.number_of_edges())\n"
   ]
  },
  {
   "cell_type": "code",
   "execution_count": 11,
   "id": "d4021b7f",
   "metadata": {},
   "outputs": [
    {
     "name": "stdout",
     "output_type": "stream",
     "text": [
      "False\n"
     ]
    }
   ],
   "source": [
    "print(nx.is_connected(G_nx))"
   ]
  },
  {
   "cell_type": "markdown",
   "id": "94cec81e",
   "metadata": {},
   "source": [
    "Find the largest connected components and ceate a new graph based on that"
   ]
  },
  {
   "cell_type": "code",
   "execution_count": 12,
   "id": "56ca3274",
   "metadata": {},
   "outputs": [],
   "source": [
    "largest_cc = max(nx.connected_components(G_nx), key=len)\n",
    "G_new = G_nx.subgraph(largest_cc)"
   ]
  },
  {
   "cell_type": "code",
   "execution_count": 13,
   "id": "2aaf68ea",
   "metadata": {},
   "outputs": [
    {
     "name": "stdout",
     "output_type": "stream",
     "text": [
      "True\n"
     ]
    }
   ],
   "source": [
    "print(nx.is_connected(G_new))"
   ]
  },
  {
   "cell_type": "code",
   "execution_count": 25,
   "id": "93e9d8b4",
   "metadata": {},
   "outputs": [
    {
     "name": "stdout",
     "output_type": "stream",
     "text": [
      "32\n",
      "33\n"
     ]
    }
   ],
   "source": [
    "print(G_new.number_of_nodes())\n",
    "print(G_new.number_of_edges())"
   ]
  },
  {
   "cell_type": "code",
   "execution_count": null,
   "id": "816b5b72",
   "metadata": {},
   "outputs": [],
   "source": []
  },
  {
   "cell_type": "code",
   "execution_count": null,
   "id": "ca36da97",
   "metadata": {},
   "outputs": [],
   "source": []
  },
  {
   "cell_type": "code",
   "execution_count": 26,
   "id": "62751889",
   "metadata": {},
   "outputs": [
    {
     "name": "stdout",
     "output_type": "stream",
     "text": [
      "32\n"
     ]
    }
   ],
   "source": [
    "list_nodes = [nodes for nodes in G_new.nodes()]\n",
    "print(len(list_nodes))"
   ]
  },
  {
   "cell_type": "code",
   "execution_count": 27,
   "id": "1db60cfe",
   "metadata": {},
   "outputs": [],
   "source": [
    "df_new= df.loc[list_nodes]\n",
    "df_new = df_new.reset_index(drop=True)"
   ]
  },
  {
   "cell_type": "code",
   "execution_count": 28,
   "id": "cd826c0c",
   "metadata": {},
   "outputs": [],
   "source": [
    "df_target = df_new['ml_target']\n",
    "df_name = df_new['name']"
   ]
  },
  {
   "cell_type": "code",
   "execution_count": 30,
   "id": "6f4b02d4",
   "metadata": {},
   "outputs": [
    {
     "data": {
      "text/plain": [
       "0    0\n",
       "1    0\n",
       "2    0\n",
       "3    0\n",
       "4    0\n",
       "5    1\n",
       "6    0\n",
       "7    0\n",
       "8    0\n",
       "9    1\n",
       "Name: ml_target, dtype: int64"
      ]
     },
     "execution_count": 30,
     "metadata": {},
     "output_type": "execute_result"
    }
   ],
   "source": [
    "df_target.head(10)"
   ]
  },
  {
   "cell_type": "code",
   "execution_count": 31,
   "id": "50160b79",
   "metadata": {},
   "outputs": [],
   "source": [
    "# Resetting the index of the nodes from 0 to number of nodes for SINE and AE\n",
    "new_indices = range(0, G_new.number_of_nodes())\n",
    "mapping = {old_index: new_index for new_index, old_index in zip(new_indices, G_new.nodes())}\n",
    "G_new = nx.relabel_nodes(G_new, mapping)"
   ]
  },
  {
   "cell_type": "markdown",
   "id": "d62d2d8c",
   "metadata": {},
   "source": [
    "Add attributes to the graph"
   ]
  },
  {
   "cell_type": "code",
   "execution_count": 32,
   "id": "f8299932",
   "metadata": {},
   "outputs": [
    {
     "name": "stdout",
     "output_type": "stream",
     "text": [
      "32\n"
     ]
    }
   ],
   "source": [
    "'add synthetic gender '\n",
    "list_gender = {i: i % 2 for i in range(G_new.number_of_nodes())}\n",
    "print(len(list_gender))\n",
    "nx.set_node_attributes(G_new, list_gender, 'gender')\n",
    "nx.set_node_attributes(G_new, df_name, 'name')"
   ]
  },
  {
   "cell_type": "code",
   "execution_count": 33,
   "id": "82dc5df8",
   "metadata": {},
   "outputs": [
    {
     "name": "stdout",
     "output_type": "stream",
     "text": [
      "32\n"
     ]
    }
   ],
   "source": [
    "print(len(list_gender.values()))\n",
    "datF = pd.DataFrame(list_gender.values())"
   ]
  },
  {
   "cell_type": "code",
   "execution_count": 36,
   "id": "52d9c953",
   "metadata": {},
   "outputs": [],
   "source": [
    "df_features = datF.apply(pd.to_numeric, errors='coerce')\n",
    "row_indices, col_indices = np.where(~np.isnan(datF.values))\n",
    "\n",
    "\n",
    "# Create the COO sparse matrix\n",
    "coo_matrix = coo_matrix((datF.values.ravel(), (row_indices, col_indices)), shape=(datF.shape[0], datF.shape[1]))"
   ]
  },
  {
   "cell_type": "code",
   "execution_count": 22,
   "id": "fb4c0b44",
   "metadata": {},
   "outputs": [],
   "source": []
  },
  {
   "cell_type": "code",
   "execution_count": 37,
   "id": "1d2fc777",
   "metadata": {},
   "outputs": [
    {
     "name": "stdout",
     "output_type": "stream",
     "text": [
      "done create embeding vectors\n",
      "[0 0 0 0 0 1 0 0 0 1 0 0 0 0 0 0 0 0 0 0 0 0 0 0 0 0 1 0 0 0 0 0]\n",
      "[0, 0, 0, 0, 0, 0, 0, 0, 0, 0]\n",
      "predic\n",
      "[0, 0, 0, 0, 0, 0, 0, 0, 0, 0]\n",
      "[[10  0]\n",
      " [ 0  0]]\n",
      "done iteration\n",
      "[[10  0]\n",
      " [ 0  0]]\n",
      "PPV_f and PPV_m is equal: True\n",
      "[0, 0, 0, 0, 0, 0, 0, 0, 0, 0]\n",
      "predic\n",
      "[0, 0, 0, 0, 0, 0, 0, 0, 0, 0]\n",
      "[[10  0]\n",
      " [ 0  0]]\n",
      "[[10  0]\n",
      " [ 0  0]]\n",
      "[[10  0]\n",
      " [ 0  0]]\n",
      "fpF: 0.0\n",
      "fpM: 0\n"
     ]
    },
    {
     "name": "stderr",
     "output_type": "stream",
     "text": [
      "C:\\Users\\nagel\\AppData\\Local\\Temp\\ipykernel_20828\\1038381496.py:8: RuntimeWarning: invalid value encountered in longlong_scalars\n",
      "  fnr_f = fn_f / (tp_f + fn_f)\n",
      "C:\\Users\\nagel\\AppData\\Local\\Temp\\ipykernel_20828\\398579461.py:10: RuntimeWarning: invalid value encountered in longlong_scalars\n",
      "  ppv_f = tp_f/(tp_f + fn_f)\n"
     ]
    },
    {
     "name": "stdout",
     "output_type": "stream",
     "text": [
      "done create embeding vectors\n",
      "[0 0 0 0 0 1 0 0 0 1 0 0 0 0 0 0 0 0 0 0 0 0 0 0 0 0 1 0 0 0 0 0]\n",
      "[0, 0, 0, 0, 0, 0, 0, 0, 0, 0]\n",
      "predic\n",
      "[0, 0, 0, 0, 0, 0, 0, 0, 0, 0]\n",
      "[[10  0]\n",
      " [ 0  0]]\n",
      "done iteration\n",
      "[[10  0]\n",
      " [ 0  0]]\n",
      "PPV_f and PPV_m is equal: True\n",
      "[0, 0, 0, 0, 0, 0, 0, 0, 0, 0]\n",
      "predic\n",
      "[0, 0, 0, 0, 0, 0, 0, 0, 0, 0]\n",
      "[[10  0]\n",
      " [ 0  0]]\n",
      "[[10  0]\n",
      " [ 0  0]]\n",
      "[[10  0]\n",
      " [ 0  0]]\n",
      "fpF: 0.0\n",
      "fpM: 0\n"
     ]
    },
    {
     "name": "stderr",
     "output_type": "stream",
     "text": [
      "C:\\Users\\nagel\\AppData\\Local\\Temp\\ipykernel_20828\\1038381496.py:8: RuntimeWarning: invalid value encountered in longlong_scalars\n",
      "  fnr_f = fn_f / (tp_f + fn_f)\n",
      "C:\\Users\\nagel\\AppData\\Local\\Temp\\ipykernel_20828\\398579461.py:10: RuntimeWarning: invalid value encountered in longlong_scalars\n",
      "  ppv_f = tp_f/(tp_f + fn_f)\n"
     ]
    },
    {
     "name": "stdout",
     "output_type": "stream",
     "text": [
      "done create embeding vectors\n",
      "[0 0 0 0 0 1 0 0 0 1 0 0 0 0 0 0 0 0 0 0 0 0 0 0 0 0 1 0 0 0 0 0]\n",
      "[0, 0, 0, 0, 0, 0, 0, 0, 0, 0]\n",
      "predic\n",
      "[0, 0, 0, 0, 0, 0, 0, 0, 0, 0]\n",
      "[[10  0]\n",
      " [ 0  0]]\n",
      "done iteration\n",
      "[[10  0]\n",
      " [ 0  0]]\n",
      "PPV_f and PPV_m is equal: True\n",
      "[0, 0, 0, 0, 0, 0, 0, 0, 0, 0]\n",
      "predic\n",
      "[0, 0, 0, 0, 0, 0, 0, 0, 0, 0]\n",
      "[[10  0]\n",
      " [ 0  0]]\n",
      "[[10  0]\n",
      " [ 0  0]]\n",
      "[[10  0]\n",
      " [ 0  0]]\n",
      "fpF: 0.0\n",
      "fpM: 0\n"
     ]
    },
    {
     "name": "stderr",
     "output_type": "stream",
     "text": [
      "C:\\Users\\nagel\\AppData\\Local\\Temp\\ipykernel_20828\\1038381496.py:8: RuntimeWarning: invalid value encountered in longlong_scalars\n",
      "  fnr_f = fn_f / (tp_f + fn_f)\n",
      "C:\\Users\\nagel\\AppData\\Local\\Temp\\ipykernel_20828\\398579461.py:10: RuntimeWarning: invalid value encountered in longlong_scalars\n",
      "  ppv_f = tp_f/(tp_f + fn_f)\n"
     ]
    },
    {
     "name": "stdout",
     "output_type": "stream",
     "text": [
      "done create embeding vectors\n",
      "[0 0 0 0 0 1 0 0 0 1 0 0 0 0 0 0 0 0 0 0 0 0 0 0 0 0 1 0 0 0 0 0]\n",
      "[0, 0, 0, 0, 0, 0, 0, 0, 0, 0]\n",
      "predic\n",
      "[0, 0, 0, 0, 0, 0, 0, 0, 0, 0]\n",
      "[[10  0]\n",
      " [ 0  0]]\n",
      "done iteration\n",
      "[[10  0]\n",
      " [ 0  0]]\n",
      "PPV_f and PPV_m is equal: True\n",
      "[0, 0, 0, 0, 0, 0, 0, 0, 0, 0]\n",
      "predic\n",
      "[0, 0, 0, 0, 0, 0, 0, 0, 0, 0]\n",
      "[[10  0]\n",
      " [ 0  0]]\n",
      "[[10  0]\n",
      " [ 0  0]]\n",
      "[[10  0]\n",
      " [ 0  0]]\n",
      "fpF: 0.0\n",
      "fpM: 0\n"
     ]
    },
    {
     "name": "stderr",
     "output_type": "stream",
     "text": [
      "C:\\Users\\nagel\\AppData\\Local\\Temp\\ipykernel_20828\\1038381496.py:8: RuntimeWarning: invalid value encountered in longlong_scalars\n",
      "  fnr_f = fn_f / (tp_f + fn_f)\n",
      "C:\\Users\\nagel\\AppData\\Local\\Temp\\ipykernel_20828\\398579461.py:10: RuntimeWarning: invalid value encountered in longlong_scalars\n",
      "  ppv_f = tp_f/(tp_f + fn_f)\n"
     ]
    },
    {
     "name": "stdout",
     "output_type": "stream",
     "text": [
      "done create embeding vectors\n",
      "[0 0 0 0 0 1 0 0 0 1 0 0 0 0 0 0 0 0 0 0 0 0 0 0 0 0 1 0 0 0 0 0]\n",
      "[0, 0, 0, 0, 0, 0, 0, 0, 0, 0]\n",
      "predic\n",
      "[0, 0, 0, 0, 0, 0, 0, 0, 0, 0]\n",
      "[[10  0]\n",
      " [ 0  0]]\n",
      "done iteration\n",
      "[[10  0]\n",
      " [ 0  0]]\n",
      "PPV_f and PPV_m is equal: True\n",
      "[0, 0, 0, 0, 0, 0, 0, 0, 0, 0]\n",
      "predic\n",
      "[0, 0, 0, 0, 0, 0, 0, 0, 0, 0]\n",
      "[[10  0]\n",
      " [ 0  0]]\n",
      "[[10  0]\n",
      " [ 0  0]]\n",
      "[[10  0]\n",
      " [ 0  0]]\n",
      "fpF: 0.0\n",
      "fpM: 0\n"
     ]
    },
    {
     "name": "stderr",
     "output_type": "stream",
     "text": [
      "C:\\Users\\nagel\\AppData\\Local\\Temp\\ipykernel_20828\\1038381496.py:8: RuntimeWarning: invalid value encountered in longlong_scalars\n",
      "  fnr_f = fn_f / (tp_f + fn_f)\n",
      "C:\\Users\\nagel\\AppData\\Local\\Temp\\ipykernel_20828\\398579461.py:10: RuntimeWarning: invalid value encountered in longlong_scalars\n",
      "  ppv_f = tp_f/(tp_f + fn_f)\n"
     ]
    },
    {
     "name": "stdout",
     "output_type": "stream",
     "text": [
      "done create embeding vectors\n",
      "[0 0 0 0 0 1 0 0 0 1 0 0 0 0 0 0 0 0 0 0 0 0 0 0 0 0 1 0 0 0 0 0]\n",
      "[0, 0, 0, 0, 0, 0, 0, 0, 0, 0]\n",
      "predic\n",
      "[0, 0, 0, 0, 0, 0, 0, 0, 0, 0]\n",
      "[[10  0]\n",
      " [ 0  0]]\n",
      "done iteration\n",
      "[[10  0]\n",
      " [ 0  0]]\n",
      "PPV_f and PPV_m is equal: True\n",
      "[0, 0, 0, 0, 0, 0, 0, 0, 0, 0]\n",
      "predic\n",
      "[0, 0, 0, 0, 0, 0, 0, 0, 0, 0]\n",
      "[[10  0]\n",
      " [ 0  0]]\n",
      "[[10  0]\n",
      " [ 0  0]]\n",
      "[[10  0]\n",
      " [ 0  0]]\n",
      "fpF: 0.0\n",
      "fpM: 0\n"
     ]
    },
    {
     "name": "stderr",
     "output_type": "stream",
     "text": [
      "C:\\Users\\nagel\\AppData\\Local\\Temp\\ipykernel_20828\\1038381496.py:8: RuntimeWarning: invalid value encountered in longlong_scalars\n",
      "  fnr_f = fn_f / (tp_f + fn_f)\n",
      "C:\\Users\\nagel\\AppData\\Local\\Temp\\ipykernel_20828\\398579461.py:10: RuntimeWarning: invalid value encountered in longlong_scalars\n",
      "  ppv_f = tp_f/(tp_f + fn_f)\n"
     ]
    },
    {
     "name": "stdout",
     "output_type": "stream",
     "text": [
      "done create embeding vectors\n",
      "[0 0 0 0 0 1 0 0 0 1 0 0 0 0 0 0 0 0 0 0 0 0 0 0 0 0 1 0 0 0 0 0]\n",
      "[0, 0, 0, 0, 0, 0, 0, 0, 0, 0]\n",
      "predic\n",
      "[0, 0, 0, 0, 0, 0, 0, 0, 0, 0]\n",
      "[[10  0]\n",
      " [ 0  0]]\n",
      "done iteration\n",
      "[[10  0]\n",
      " [ 0  0]]\n",
      "PPV_f and PPV_m is equal: True\n",
      "[0, 0, 0, 0, 0, 0, 0, 0, 0, 0]\n",
      "predic\n",
      "[0, 0, 0, 0, 0, 0, 0, 0, 0, 0]\n",
      "[[10  0]\n",
      " [ 0  0]]\n",
      "[[10  0]\n",
      " [ 0  0]]\n",
      "[[10  0]\n",
      " [ 0  0]]\n",
      "fpF: 0.0\n",
      "fpM: 0\n"
     ]
    },
    {
     "name": "stderr",
     "output_type": "stream",
     "text": [
      "C:\\Users\\nagel\\AppData\\Local\\Temp\\ipykernel_20828\\1038381496.py:8: RuntimeWarning: invalid value encountered in longlong_scalars\n",
      "  fnr_f = fn_f / (tp_f + fn_f)\n",
      "C:\\Users\\nagel\\AppData\\Local\\Temp\\ipykernel_20828\\398579461.py:10: RuntimeWarning: invalid value encountered in longlong_scalars\n",
      "  ppv_f = tp_f/(tp_f + fn_f)\n"
     ]
    },
    {
     "name": "stdout",
     "output_type": "stream",
     "text": [
      "done create embeding vectors\n",
      "[0 0 0 0 0 1 0 0 0 1 0 0 0 0 0 0 0 0 0 0 0 0 0 0 0 0 1 0 0 0 0 0]\n",
      "[0, 0, 0, 0, 0, 0, 0, 0, 0, 0]\n",
      "predic\n",
      "[0, 0, 0, 0, 0, 0, 0, 0, 0, 0]\n",
      "[[10  0]\n",
      " [ 0  0]]\n",
      "done iteration\n",
      "[[10  0]\n",
      " [ 0  0]]\n",
      "PPV_f and PPV_m is equal: True\n",
      "[0, 0, 0, 0, 0, 0, 0, 0, 0, 0]\n",
      "predic\n",
      "[0, 0, 0, 0, 0, 0, 0, 0, 0, 0]\n",
      "[[10  0]\n",
      " [ 0  0]]\n",
      "[[10  0]\n",
      " [ 0  0]]\n",
      "[[10  0]\n",
      " [ 0  0]]\n",
      "fpF: 0.0\n",
      "fpM: 0\n"
     ]
    },
    {
     "name": "stderr",
     "output_type": "stream",
     "text": [
      "C:\\Users\\nagel\\AppData\\Local\\Temp\\ipykernel_20828\\1038381496.py:8: RuntimeWarning: invalid value encountered in longlong_scalars\n",
      "  fnr_f = fn_f / (tp_f + fn_f)\n",
      "C:\\Users\\nagel\\AppData\\Local\\Temp\\ipykernel_20828\\398579461.py:10: RuntimeWarning: invalid value encountered in longlong_scalars\n",
      "  ppv_f = tp_f/(tp_f + fn_f)\n"
     ]
    },
    {
     "name": "stdout",
     "output_type": "stream",
     "text": [
      "done create embeding vectors\n",
      "[0 0 0 0 0 1 0 0 0 1 0 0 0 0 0 0 0 0 0 0 0 0 0 0 0 0 1 0 0 0 0 0]\n",
      "[0, 0, 0, 0, 0, 0, 0, 0, 0, 0]\n",
      "predic\n",
      "[0, 0, 0, 0, 0, 0, 0, 0, 0, 0]\n",
      "[[10  0]\n",
      " [ 0  0]]\n",
      "done iteration\n",
      "[[10  0]\n",
      " [ 0  0]]\n",
      "PPV_f and PPV_m is equal: True\n",
      "[0, 0, 0, 0, 0, 0, 0, 0, 0, 0]\n",
      "predic\n",
      "[0, 0, 0, 0, 0, 0, 0, 0, 0, 0]\n",
      "[[10  0]\n",
      " [ 0  0]]\n",
      "[[10  0]\n",
      " [ 0  0]]\n",
      "[[10  0]\n",
      " [ 0  0]]\n",
      "fpF: 0.0\n",
      "fpM: 0\n"
     ]
    },
    {
     "name": "stderr",
     "output_type": "stream",
     "text": [
      "C:\\Users\\nagel\\AppData\\Local\\Temp\\ipykernel_20828\\1038381496.py:8: RuntimeWarning: invalid value encountered in longlong_scalars\n",
      "  fnr_f = fn_f / (tp_f + fn_f)\n",
      "C:\\Users\\nagel\\AppData\\Local\\Temp\\ipykernel_20828\\398579461.py:10: RuntimeWarning: invalid value encountered in longlong_scalars\n",
      "  ppv_f = tp_f/(tp_f + fn_f)\n"
     ]
    },
    {
     "name": "stdout",
     "output_type": "stream",
     "text": [
      "done create embeding vectors\n",
      "[0 0 0 0 0 1 0 0 0 1 0 0 0 0 0 0 0 0 0 0 0 0 0 0 0 0 1 0 0 0 0 0]\n",
      "[0, 0, 0, 0, 0, 0, 0, 0, 0, 0]\n",
      "predic\n",
      "[0, 0, 0, 0, 0, 0, 0, 0, 0, 0]\n",
      "[[10  0]\n",
      " [ 0  0]]\n",
      "done iteration\n",
      "[[10  0]\n",
      " [ 0  0]]\n",
      "PPV_f and PPV_m is equal: True\n",
      "[0, 0, 0, 0, 0, 0, 0, 0, 0, 0]\n",
      "predic\n",
      "[0, 0, 0, 0, 0, 0, 0, 0, 0, 0]\n",
      "[[10  0]\n",
      " [ 0  0]]\n",
      "[[10  0]\n",
      " [ 0  0]]\n",
      "[[10  0]\n",
      " [ 0  0]]\n",
      "fpF: 0.0\n",
      "fpM: 0\n"
     ]
    },
    {
     "name": "stderr",
     "output_type": "stream",
     "text": [
      "C:\\Users\\nagel\\AppData\\Local\\Temp\\ipykernel_20828\\1038381496.py:8: RuntimeWarning: invalid value encountered in longlong_scalars\n",
      "  fnr_f = fn_f / (tp_f + fn_f)\n",
      "C:\\Users\\nagel\\AppData\\Local\\Temp\\ipykernel_20828\\398579461.py:10: RuntimeWarning: invalid value encountered in longlong_scalars\n",
      "  ppv_f = tp_f/(tp_f + fn_f)\n"
     ]
    },
    {
     "name": "stdout",
     "output_type": "stream",
     "text": [
      "done create embeding vectors\n",
      "[0 0 0 0 0 1 0 0 0 1 0 0 0 0 0 0 0 0 0 0 0 0 0 0 0 0 1 0 0 0 0 0]\n",
      "[0, 0, 0, 0, 0, 0, 0, 0, 0, 0]\n",
      "predic\n",
      "[0, 0, 0, 0, 0, 0, 0, 0, 0, 0]\n",
      "[[10  0]\n",
      " [ 0  0]]\n",
      "done iteration\n",
      "[[10  0]\n",
      " [ 0  0]]\n",
      "PPV_f and PPV_m is equal: True\n",
      "[0, 0, 0, 0, 0, 0, 0, 0, 0, 0]\n",
      "predic\n",
      "[0, 0, 0, 0, 0, 0, 0, 0, 0, 0]\n",
      "[[10  0]\n",
      " [ 0  0]]\n",
      "[[10  0]\n",
      " [ 0  0]]\n",
      "[[10  0]\n",
      " [ 0  0]]\n",
      "fpF: 0.0\n",
      "fpM: 0\n"
     ]
    },
    {
     "name": "stderr",
     "output_type": "stream",
     "text": [
      "C:\\Users\\nagel\\AppData\\Local\\Temp\\ipykernel_20828\\1038381496.py:8: RuntimeWarning: invalid value encountered in longlong_scalars\n",
      "  fnr_f = fn_f / (tp_f + fn_f)\n",
      "C:\\Users\\nagel\\AppData\\Local\\Temp\\ipykernel_20828\\398579461.py:10: RuntimeWarning: invalid value encountered in longlong_scalars\n",
      "  ppv_f = tp_f/(tp_f + fn_f)\n"
     ]
    },
    {
     "name": "stdout",
     "output_type": "stream",
     "text": [
      "done create embeding vectors\n",
      "[0 0 0 0 0 1 0 0 0 1 0 0 0 0 0 0 0 0 0 0 0 0 0 0 0 0 1 0 0 0 0 0]\n",
      "[0, 0, 0, 0, 0, 0, 0, 0, 0, 0]\n",
      "predic\n",
      "[0, 0, 0, 0, 0, 0, 0, 0, 0, 0]\n",
      "[[10  0]\n",
      " [ 0  0]]\n",
      "done iteration\n",
      "[[10  0]\n",
      " [ 0  0]]\n",
      "PPV_f and PPV_m is equal: True\n",
      "[0, 0, 0, 0, 0, 0, 0, 0, 0, 0]\n",
      "predic\n",
      "[0, 0, 0, 0, 0, 0, 0, 0, 0, 0]\n",
      "[[10  0]\n",
      " [ 0  0]]\n",
      "[[10  0]\n",
      " [ 0  0]]\n",
      "[[10  0]\n",
      " [ 0  0]]\n",
      "fpF: 0.0\n",
      "fpM: 0\n"
     ]
    },
    {
     "name": "stderr",
     "output_type": "stream",
     "text": [
      "C:\\Users\\nagel\\AppData\\Local\\Temp\\ipykernel_20828\\1038381496.py:8: RuntimeWarning: invalid value encountered in longlong_scalars\n",
      "  fnr_f = fn_f / (tp_f + fn_f)\n",
      "C:\\Users\\nagel\\AppData\\Local\\Temp\\ipykernel_20828\\398579461.py:10: RuntimeWarning: invalid value encountered in longlong_scalars\n",
      "  ppv_f = tp_f/(tp_f + fn_f)\n"
     ]
    },
    {
     "name": "stdout",
     "output_type": "stream",
     "text": [
      "done create embeding vectors\n",
      "[0 0 0 0 0 1 0 0 0 1 0 0 0 0 0 0 0 0 0 0 0 0 0 0 0 0 1 0 0 0 0 0]\n",
      "[0, 0, 0, 0, 0, 0, 0, 0, 0, 0]\n",
      "predic\n",
      "[0, 0, 0, 0, 0, 0, 0, 0, 0, 0]\n",
      "[[10  0]\n",
      " [ 0  0]]\n",
      "done iteration\n",
      "[[10  0]\n",
      " [ 0  0]]\n",
      "PPV_f and PPV_m is equal: True\n",
      "[0, 0, 0, 0, 0, 0, 0, 0, 0, 0]\n",
      "predic\n",
      "[0, 0, 0, 0, 0, 0, 0, 0, 0, 0]\n",
      "[[10  0]\n",
      " [ 0  0]]\n",
      "[[10  0]\n",
      " [ 0  0]]\n",
      "[[10  0]\n",
      " [ 0  0]]\n",
      "fpF: 0.0\n",
      "fpM: 0\n"
     ]
    },
    {
     "name": "stderr",
     "output_type": "stream",
     "text": [
      "C:\\Users\\nagel\\AppData\\Local\\Temp\\ipykernel_20828\\1038381496.py:8: RuntimeWarning: invalid value encountered in longlong_scalars\n",
      "  fnr_f = fn_f / (tp_f + fn_f)\n",
      "C:\\Users\\nagel\\AppData\\Local\\Temp\\ipykernel_20828\\398579461.py:10: RuntimeWarning: invalid value encountered in longlong_scalars\n",
      "  ppv_f = tp_f/(tp_f + fn_f)\n"
     ]
    },
    {
     "name": "stdout",
     "output_type": "stream",
     "text": [
      "done create embeding vectors\n",
      "[0 0 0 0 0 1 0 0 0 1 0 0 0 0 0 0 0 0 0 0 0 0 0 0 0 0 1 0 0 0 0 0]\n",
      "[0, 0, 0, 0, 0, 0, 0, 0, 0, 0]\n",
      "predic\n",
      "[0, 0, 0, 0, 0, 0, 0, 0, 0, 0]\n",
      "[[10  0]\n",
      " [ 0  0]]\n",
      "done iteration\n",
      "[[10  0]\n",
      " [ 0  0]]\n",
      "PPV_f and PPV_m is equal: True\n",
      "[0, 0, 0, 0, 0, 0, 0, 0, 0, 0]\n",
      "predic\n",
      "[0, 0, 0, 0, 0, 0, 0, 0, 0, 0]\n",
      "[[10  0]\n",
      " [ 0  0]]\n",
      "[[10  0]\n",
      " [ 0  0]]\n",
      "[[10  0]\n",
      " [ 0  0]]\n",
      "fpF: 0.0\n",
      "fpM: 0\n"
     ]
    },
    {
     "name": "stderr",
     "output_type": "stream",
     "text": [
      "C:\\Users\\nagel\\AppData\\Local\\Temp\\ipykernel_20828\\1038381496.py:8: RuntimeWarning: invalid value encountered in longlong_scalars\n",
      "  fnr_f = fn_f / (tp_f + fn_f)\n",
      "C:\\Users\\nagel\\AppData\\Local\\Temp\\ipykernel_20828\\398579461.py:10: RuntimeWarning: invalid value encountered in longlong_scalars\n",
      "  ppv_f = tp_f/(tp_f + fn_f)\n"
     ]
    },
    {
     "name": "stdout",
     "output_type": "stream",
     "text": [
      "done create embeding vectors\n",
      "[0 0 0 0 0 1 0 0 0 1 0 0 0 0 0 0 0 0 0 0 0 0 0 0 0 0 1 0 0 0 0 0]\n",
      "[0, 0, 0, 0, 0, 0, 0, 0, 0, 0]\n",
      "predic\n",
      "[0, 0, 0, 0, 0, 0, 0, 0, 0, 0]\n",
      "[[10  0]\n",
      " [ 0  0]]\n",
      "done iteration\n",
      "[[10  0]\n",
      " [ 0  0]]\n",
      "PPV_f and PPV_m is equal: True\n",
      "[0, 0, 0, 0, 0, 0, 0, 0, 0, 0]\n",
      "predic\n",
      "[0, 0, 0, 0, 0, 0, 0, 0, 0, 0]\n",
      "[[10  0]\n",
      " [ 0  0]]\n",
      "[[10  0]\n",
      " [ 0  0]]\n",
      "[[10  0]\n",
      " [ 0  0]]\n",
      "fpF: 0.0\n",
      "fpM: 0\n"
     ]
    },
    {
     "name": "stderr",
     "output_type": "stream",
     "text": [
      "C:\\Users\\nagel\\AppData\\Local\\Temp\\ipykernel_20828\\1038381496.py:8: RuntimeWarning: invalid value encountered in longlong_scalars\n",
      "  fnr_f = fn_f / (tp_f + fn_f)\n",
      "C:\\Users\\nagel\\AppData\\Local\\Temp\\ipykernel_20828\\398579461.py:10: RuntimeWarning: invalid value encountered in longlong_scalars\n",
      "  ppv_f = tp_f/(tp_f + fn_f)\n"
     ]
    },
    {
     "name": "stdout",
     "output_type": "stream",
     "text": [
      "done create embeding vectors\n",
      "[0 0 0 0 0 1 0 0 0 1 0 0 0 0 0 0 0 0 0 0 0 0 0 0 0 0 1 0 0 0 0 0]\n",
      "[0, 0, 0, 0, 0, 0, 0, 0, 0, 0]\n",
      "predic\n",
      "[0, 0, 0, 0, 0, 0, 0, 0, 0, 0]\n",
      "[[10  0]\n",
      " [ 0  0]]\n",
      "done iteration\n",
      "[[10  0]\n",
      " [ 0  0]]\n",
      "PPV_f and PPV_m is equal: True\n",
      "[0, 0, 0, 0, 0, 0, 0, 0, 0, 0]\n",
      "predic\n",
      "[0, 0, 0, 0, 0, 0, 0, 0, 0, 0]\n",
      "[[10  0]\n",
      " [ 0  0]]\n",
      "[[10  0]\n",
      " [ 0  0]]\n",
      "[[10  0]\n",
      " [ 0  0]]\n",
      "fpF: 0.0\n",
      "fpM: 0\n"
     ]
    },
    {
     "name": "stderr",
     "output_type": "stream",
     "text": [
      "C:\\Users\\nagel\\AppData\\Local\\Temp\\ipykernel_20828\\1038381496.py:8: RuntimeWarning: invalid value encountered in longlong_scalars\n",
      "  fnr_f = fn_f / (tp_f + fn_f)\n",
      "C:\\Users\\nagel\\AppData\\Local\\Temp\\ipykernel_20828\\398579461.py:10: RuntimeWarning: invalid value encountered in longlong_scalars\n",
      "  ppv_f = tp_f/(tp_f + fn_f)\n"
     ]
    }
   ],
   "source": [
    "# Parameters\n",
    "parameter_grid = {\n",
    "    'dimensions': [16, 32],\n",
    "    'walk_length': [20, 30],\n",
    "    'walk_number': [25, 75],\n",
    "    'workers': [2, 4]\n",
    "}\n",
    "\n",
    "#apply SINE embedding, find the best embedding with the grid search algorithm\n",
    "best_params, best_fpr_w,best_fpr_m, dataframe = grid_search_SINE(x_Graph, coo_matrix,parameter_grid,  list(df_target), list_gender)"
   ]
  },
  {
   "cell_type": "code",
   "execution_count": 38,
   "id": "e5b252b8",
   "metadata": {},
   "outputs": [
    {
     "name": "stdout",
     "output_type": "stream",
     "text": [
      "{'dimensions': 16, 'walk_length': 20, 'walk_number': 25, 'workers': 2} 0.0 0                            Female  Male\n",
      "Group Fairness                0.0   0.0\n",
      "Predictive Parity             0.0   0.0\n",
      "False Positive Error Rate     0.0   0.0\n",
      "Equalized Opportunity         NaN   0.0\n",
      "Equalized Odds PPV            NaN   0.0\n",
      "Equalized Odds FPR            0.0   0.0\n"
     ]
    }
   ],
   "source": [
    "print(best_params, best_fpr_w,best_fpr_m, dataframe)"
   ]
  },
  {
   "cell_type": "code",
   "execution_count": 39,
   "id": "bc796b4c",
   "metadata": {},
   "outputs": [
    {
     "name": "stdout",
     "output_type": "stream",
     "text": [
      "done create embeding vectors\n",
      "[0 0 0 0 0 1 0 0 0 1 0 0 0 0 0 0 0 0 0 0 0 0 0 0 0 0 1 0 0 0 0 0]\n",
      "[0, 0, 0, 0, 0, 0, 0, 0, 0, 0]\n",
      "predic\n",
      "[0, 0, 0, 0, 0, 0, 0, 0, 0, 0]\n",
      "[[10  0]\n",
      " [ 0  0]]\n",
      "done iteration\n",
      "[[10  0]\n",
      " [ 0  0]]\n",
      "PPV_f and PPV_m is equal: True\n",
      "[0, 0, 0, 0, 0, 0, 0, 0, 0, 0]\n",
      "predic\n",
      "[0, 0, 0, 0, 0, 0, 0, 0, 0, 0]\n",
      "[[10  0]\n",
      " [ 0  0]]\n",
      "[[10  0]\n",
      " [ 0  0]]\n",
      "[[10  0]\n",
      " [ 0  0]]\n",
      "fpF: 0.0\n",
      "fpM: 0\n"
     ]
    },
    {
     "name": "stderr",
     "output_type": "stream",
     "text": [
      "C:\\Users\\nagel\\AppData\\Local\\Temp\\ipykernel_20828\\1038381496.py:8: RuntimeWarning: invalid value encountered in longlong_scalars\n",
      "  fnr_f = fn_f / (tp_f + fn_f)\n",
      "C:\\Users\\nagel\\AppData\\Local\\Temp\\ipykernel_20828\\398579461.py:10: RuntimeWarning: invalid value encountered in longlong_scalars\n",
      "  ppv_f = tp_f/(tp_f + fn_f)\n"
     ]
    },
    {
     "name": "stdout",
     "output_type": "stream",
     "text": [
      "done create embeding vectors\n",
      "[0 0 0 0 0 1 0 0 0 1 0 0 0 0 0 0 0 0 0 0 0 0 0 0 0 0 1 0 0 0 0 0]\n",
      "[0, 0, 0, 0, 0, 0, 0, 0, 0, 0]\n",
      "predic\n",
      "[0, 0, 0, 0, 0, 0, 0, 0, 0, 0]\n",
      "[[10  0]\n",
      " [ 0  0]]\n",
      "done iteration\n",
      "[[10  0]\n",
      " [ 0  0]]\n",
      "PPV_f and PPV_m is equal: True\n",
      "[0, 0, 0, 0, 0, 0, 0, 0, 0, 0]\n",
      "predic\n",
      "[0, 0, 0, 0, 0, 0, 0, 0, 0, 0]\n",
      "[[10  0]\n",
      " [ 0  0]]\n",
      "[[10  0]\n",
      " [ 0  0]]\n",
      "[[10  0]\n",
      " [ 0  0]]\n",
      "fpF: 0.0\n",
      "fpM: 0\n"
     ]
    },
    {
     "name": "stderr",
     "output_type": "stream",
     "text": [
      "C:\\Users\\nagel\\AppData\\Local\\Temp\\ipykernel_20828\\1038381496.py:8: RuntimeWarning: invalid value encountered in longlong_scalars\n",
      "  fnr_f = fn_f / (tp_f + fn_f)\n",
      "C:\\Users\\nagel\\AppData\\Local\\Temp\\ipykernel_20828\\398579461.py:10: RuntimeWarning: invalid value encountered in longlong_scalars\n",
      "  ppv_f = tp_f/(tp_f + fn_f)\n"
     ]
    },
    {
     "name": "stdout",
     "output_type": "stream",
     "text": [
      "done create embeding vectors\n",
      "[0 0 0 0 0 1 0 0 0 1 0 0 0 0 0 0 0 0 0 0 0 0 0 0 0 0 1 0 0 0 0 0]\n",
      "[0, 0, 0, 0, 0, 0, 0, 0, 0, 0]\n",
      "predic\n",
      "[0, 0, 0, 0, 0, 0, 0, 0, 0, 0]\n",
      "[[10  0]\n",
      " [ 0  0]]\n",
      "done iteration\n",
      "[[10  0]\n",
      " [ 0  0]]\n",
      "PPV_f and PPV_m is equal: True\n",
      "[0, 0, 0, 0, 0, 0, 0, 0, 0, 0]\n",
      "predic\n",
      "[0, 0, 0, 0, 0, 0, 0, 0, 0, 0]\n",
      "[[10  0]\n",
      " [ 0  0]]\n",
      "[[10  0]\n",
      " [ 0  0]]\n",
      "[[10  0]\n",
      " [ 0  0]]\n",
      "fpF: 0.0\n",
      "fpM: 0\n"
     ]
    },
    {
     "name": "stderr",
     "output_type": "stream",
     "text": [
      "C:\\Users\\nagel\\AppData\\Local\\Temp\\ipykernel_20828\\1038381496.py:8: RuntimeWarning: invalid value encountered in longlong_scalars\n",
      "  fnr_f = fn_f / (tp_f + fn_f)\n",
      "C:\\Users\\nagel\\AppData\\Local\\Temp\\ipykernel_20828\\398579461.py:10: RuntimeWarning: invalid value encountered in longlong_scalars\n",
      "  ppv_f = tp_f/(tp_f + fn_f)\n"
     ]
    },
    {
     "name": "stdout",
     "output_type": "stream",
     "text": [
      "done create embeding vectors\n",
      "[0 0 0 0 0 1 0 0 0 1 0 0 0 0 0 0 0 0 0 0 0 0 0 0 0 0 1 0 0 0 0 0]\n",
      "[0, 0, 0, 0, 0, 0, 0, 0, 0, 0]\n",
      "predic\n",
      "[0, 0, 0, 0, 0, 0, 0, 0, 0, 0]\n",
      "[[10  0]\n",
      " [ 0  0]]\n",
      "done iteration\n",
      "[[10  0]\n",
      " [ 0  0]]\n",
      "PPV_f and PPV_m is equal: True\n",
      "[0, 0, 0, 0, 0, 0, 0, 0, 0, 0]\n",
      "predic\n",
      "[0, 0, 0, 0, 0, 0, 0, 0, 0, 0]\n",
      "[[10  0]\n",
      " [ 0  0]]\n",
      "[[10  0]\n",
      " [ 0  0]]\n",
      "[[10  0]\n",
      " [ 0  0]]\n",
      "fpF: 0.0\n",
      "fpM: 0\n"
     ]
    },
    {
     "name": "stderr",
     "output_type": "stream",
     "text": [
      "C:\\Users\\nagel\\AppData\\Local\\Temp\\ipykernel_20828\\1038381496.py:8: RuntimeWarning: invalid value encountered in longlong_scalars\n",
      "  fnr_f = fn_f / (tp_f + fn_f)\n",
      "C:\\Users\\nagel\\AppData\\Local\\Temp\\ipykernel_20828\\398579461.py:10: RuntimeWarning: invalid value encountered in longlong_scalars\n",
      "  ppv_f = tp_f/(tp_f + fn_f)\n"
     ]
    },
    {
     "name": "stdout",
     "output_type": "stream",
     "text": [
      "done create embeding vectors\n",
      "[0 0 0 0 0 1 0 0 0 1 0 0 0 0 0 0 0 0 0 0 0 0 0 0 0 0 1 0 0 0 0 0]\n",
      "[0, 0, 0, 0, 0, 0, 0, 0, 0, 0]\n",
      "predic\n",
      "[0, 0, 0, 0, 0, 0, 0, 0, 0, 0]\n",
      "[[10  0]\n",
      " [ 0  0]]\n",
      "done iteration\n",
      "[[10  0]\n",
      " [ 0  0]]\n",
      "PPV_f and PPV_m is equal: True\n",
      "[0, 0, 0, 0, 0, 0, 0, 0, 0, 0]\n",
      "predic\n",
      "[0, 0, 0, 0, 0, 0, 0, 0, 0, 0]\n",
      "[[10  0]\n",
      " [ 0  0]]\n",
      "[[10  0]\n",
      " [ 0  0]]\n",
      "[[10  0]\n",
      " [ 0  0]]\n",
      "fpF: 0.0\n",
      "fpM: 0\n"
     ]
    },
    {
     "name": "stderr",
     "output_type": "stream",
     "text": [
      "C:\\Users\\nagel\\AppData\\Local\\Temp\\ipykernel_20828\\1038381496.py:8: RuntimeWarning: invalid value encountered in longlong_scalars\n",
      "  fnr_f = fn_f / (tp_f + fn_f)\n",
      "C:\\Users\\nagel\\AppData\\Local\\Temp\\ipykernel_20828\\398579461.py:10: RuntimeWarning: invalid value encountered in longlong_scalars\n",
      "  ppv_f = tp_f/(tp_f + fn_f)\n"
     ]
    },
    {
     "name": "stdout",
     "output_type": "stream",
     "text": [
      "done create embeding vectors\n",
      "[0 0 0 0 0 1 0 0 0 1 0 0 0 0 0 0 0 0 0 0 0 0 0 0 0 0 1 0 0 0 0 0]\n",
      "[0, 0, 0, 0, 0, 0, 0, 0, 0, 0]\n",
      "predic\n",
      "[0, 0, 0, 0, 0, 0, 0, 0, 0, 0]\n",
      "[[10  0]\n",
      " [ 0  0]]\n",
      "done iteration\n",
      "[[10  0]\n",
      " [ 0  0]]\n",
      "PPV_f and PPV_m is equal: True\n",
      "[0, 0, 0, 0, 0, 0, 0, 0, 0, 0]\n",
      "predic\n",
      "[0, 0, 0, 0, 0, 0, 0, 0, 0, 0]\n",
      "[[10  0]\n",
      " [ 0  0]]\n",
      "[[10  0]\n",
      " [ 0  0]]\n",
      "[[10  0]\n",
      " [ 0  0]]\n",
      "fpF: 0.0\n",
      "fpM: 0\n"
     ]
    },
    {
     "name": "stderr",
     "output_type": "stream",
     "text": [
      "C:\\Users\\nagel\\AppData\\Local\\Temp\\ipykernel_20828\\1038381496.py:8: RuntimeWarning: invalid value encountered in longlong_scalars\n",
      "  fnr_f = fn_f / (tp_f + fn_f)\n",
      "C:\\Users\\nagel\\AppData\\Local\\Temp\\ipykernel_20828\\398579461.py:10: RuntimeWarning: invalid value encountered in longlong_scalars\n",
      "  ppv_f = tp_f/(tp_f + fn_f)\n"
     ]
    },
    {
     "name": "stdout",
     "output_type": "stream",
     "text": [
      "done create embeding vectors\n",
      "[0 0 0 0 0 1 0 0 0 1 0 0 0 0 0 0 0 0 0 0 0 0 0 0 0 0 1 0 0 0 0 0]\n",
      "[0, 0, 0, 0, 0, 0, 0, 0, 0, 0]\n",
      "predic\n",
      "[0, 0, 0, 0, 0, 0, 0, 0, 0, 0]\n",
      "[[10  0]\n",
      " [ 0  0]]\n",
      "done iteration\n",
      "[[10  0]\n",
      " [ 0  0]]\n",
      "PPV_f and PPV_m is equal: True\n",
      "[0, 0, 0, 0, 0, 0, 0, 0, 0, 0]\n",
      "predic\n",
      "[0, 0, 0, 0, 0, 0, 0, 0, 0, 0]\n",
      "[[10  0]\n",
      " [ 0  0]]\n",
      "[[10  0]\n",
      " [ 0  0]]\n",
      "[[10  0]\n",
      " [ 0  0]]\n",
      "fpF: 0.0\n",
      "fpM: 0\n"
     ]
    },
    {
     "name": "stderr",
     "output_type": "stream",
     "text": [
      "C:\\Users\\nagel\\AppData\\Local\\Temp\\ipykernel_20828\\1038381496.py:8: RuntimeWarning: invalid value encountered in longlong_scalars\n",
      "  fnr_f = fn_f / (tp_f + fn_f)\n",
      "C:\\Users\\nagel\\AppData\\Local\\Temp\\ipykernel_20828\\398579461.py:10: RuntimeWarning: invalid value encountered in longlong_scalars\n",
      "  ppv_f = tp_f/(tp_f + fn_f)\n"
     ]
    },
    {
     "name": "stdout",
     "output_type": "stream",
     "text": [
      "done create embeding vectors\n",
      "[0 0 0 0 0 1 0 0 0 1 0 0 0 0 0 0 0 0 0 0 0 0 0 0 0 0 1 0 0 0 0 0]\n",
      "[0, 0, 0, 0, 0, 0, 0, 0, 0, 0]\n",
      "predic\n",
      "[0, 0, 0, 0, 0, 0, 0, 0, 0, 0]\n",
      "[[10  0]\n",
      " [ 0  0]]\n",
      "done iteration\n",
      "[[10  0]\n",
      " [ 0  0]]\n",
      "PPV_f and PPV_m is equal: True\n",
      "[0, 0, 0, 0, 0, 0, 0, 0, 0, 0]\n",
      "predic\n",
      "[0, 0, 0, 0, 0, 0, 0, 0, 0, 0]\n",
      "[[10  0]\n",
      " [ 0  0]]\n",
      "[[10  0]\n",
      " [ 0  0]]\n",
      "[[10  0]\n",
      " [ 0  0]]\n",
      "fpF: 0.0\n",
      "fpM: 0\n"
     ]
    },
    {
     "name": "stderr",
     "output_type": "stream",
     "text": [
      "C:\\Users\\nagel\\AppData\\Local\\Temp\\ipykernel_20828\\1038381496.py:8: RuntimeWarning: invalid value encountered in longlong_scalars\n",
      "  fnr_f = fn_f / (tp_f + fn_f)\n",
      "C:\\Users\\nagel\\AppData\\Local\\Temp\\ipykernel_20828\\398579461.py:10: RuntimeWarning: invalid value encountered in longlong_scalars\n",
      "  ppv_f = tp_f/(tp_f + fn_f)\n"
     ]
    },
    {
     "name": "stdout",
     "output_type": "stream",
     "text": [
      "done create embeding vectors\n",
      "[0 0 0 0 0 1 0 0 0 1 0 0 0 0 0 0 0 0 0 0 0 0 0 0 0 0 1 0 0 0 0 0]\n",
      "[0, 0, 0, 0, 0, 0, 0, 0, 0, 0]\n",
      "predic\n",
      "[0, 0, 0, 0, 0, 0, 0, 0, 0, 0]\n",
      "[[10  0]\n",
      " [ 0  0]]\n",
      "done iteration\n",
      "[[10  0]\n",
      " [ 0  0]]\n",
      "PPV_f and PPV_m is equal: True\n",
      "[0, 0, 0, 0, 0, 0, 0, 0, 0, 0]\n",
      "predic\n",
      "[0, 0, 0, 0, 0, 0, 0, 0, 0, 0]\n",
      "[[10  0]\n",
      " [ 0  0]]\n",
      "[[10  0]\n",
      " [ 0  0]]\n",
      "[[10  0]\n",
      " [ 0  0]]\n",
      "fpF: 0.0\n",
      "fpM: 0\n"
     ]
    },
    {
     "name": "stderr",
     "output_type": "stream",
     "text": [
      "C:\\Users\\nagel\\AppData\\Local\\Temp\\ipykernel_20828\\1038381496.py:8: RuntimeWarning: invalid value encountered in longlong_scalars\n",
      "  fnr_f = fn_f / (tp_f + fn_f)\n",
      "C:\\Users\\nagel\\AppData\\Local\\Temp\\ipykernel_20828\\398579461.py:10: RuntimeWarning: invalid value encountered in longlong_scalars\n",
      "  ppv_f = tp_f/(tp_f + fn_f)\n"
     ]
    },
    {
     "name": "stdout",
     "output_type": "stream",
     "text": [
      "done create embeding vectors\n",
      "[0 0 0 0 0 1 0 0 0 1 0 0 0 0 0 0 0 0 0 0 0 0 0 0 0 0 1 0 0 0 0 0]\n",
      "[0, 0, 0, 0, 0, 0, 0, 0, 0, 0]\n",
      "predic\n",
      "[0, 0, 0, 0, 0, 0, 0, 0, 0, 0]\n",
      "[[10  0]\n",
      " [ 0  0]]\n",
      "done iteration\n",
      "[[10  0]\n",
      " [ 0  0]]\n",
      "PPV_f and PPV_m is equal: True\n",
      "[0, 0, 0, 0, 0, 0, 0, 0, 0, 0]\n",
      "predic\n",
      "[0, 0, 0, 0, 0, 0, 0, 0, 0, 0]\n",
      "[[10  0]\n",
      " [ 0  0]]\n",
      "[[10  0]\n",
      " [ 0  0]]\n",
      "[[10  0]\n",
      " [ 0  0]]\n",
      "fpF: 0.0\n",
      "fpM: 0\n"
     ]
    },
    {
     "name": "stderr",
     "output_type": "stream",
     "text": [
      "C:\\Users\\nagel\\AppData\\Local\\Temp\\ipykernel_20828\\1038381496.py:8: RuntimeWarning: invalid value encountered in longlong_scalars\n",
      "  fnr_f = fn_f / (tp_f + fn_f)\n",
      "C:\\Users\\nagel\\AppData\\Local\\Temp\\ipykernel_20828\\398579461.py:10: RuntimeWarning: invalid value encountered in longlong_scalars\n",
      "  ppv_f = tp_f/(tp_f + fn_f)\n"
     ]
    },
    {
     "name": "stdout",
     "output_type": "stream",
     "text": [
      "done create embeding vectors\n",
      "[0 0 0 0 0 1 0 0 0 1 0 0 0 0 0 0 0 0 0 0 0 0 0 0 0 0 1 0 0 0 0 0]\n",
      "[0, 0, 0, 0, 0, 0, 0, 0, 0, 0]\n",
      "predic\n",
      "[0, 0, 0, 0, 0, 0, 0, 0, 0, 0]\n",
      "[[10  0]\n",
      " [ 0  0]]\n",
      "done iteration\n",
      "[[10  0]\n",
      " [ 0  0]]\n",
      "PPV_f and PPV_m is equal: True\n",
      "[0, 0, 0, 0, 0, 0, 0, 0, 0, 0]\n",
      "predic\n",
      "[0, 0, 0, 0, 0, 0, 0, 0, 0, 0]\n",
      "[[10  0]\n",
      " [ 0  0]]\n",
      "[[10  0]\n",
      " [ 0  0]]\n",
      "[[10  0]\n",
      " [ 0  0]]\n",
      "fpF: 0.0\n",
      "fpM: 0\n"
     ]
    },
    {
     "name": "stderr",
     "output_type": "stream",
     "text": [
      "C:\\Users\\nagel\\AppData\\Local\\Temp\\ipykernel_20828\\1038381496.py:8: RuntimeWarning: invalid value encountered in longlong_scalars\n",
      "  fnr_f = fn_f / (tp_f + fn_f)\n",
      "C:\\Users\\nagel\\AppData\\Local\\Temp\\ipykernel_20828\\398579461.py:10: RuntimeWarning: invalid value encountered in longlong_scalars\n",
      "  ppv_f = tp_f/(tp_f + fn_f)\n"
     ]
    },
    {
     "name": "stdout",
     "output_type": "stream",
     "text": [
      "done create embeding vectors\n",
      "[0 0 0 0 0 1 0 0 0 1 0 0 0 0 0 0 0 0 0 0 0 0 0 0 0 0 1 0 0 0 0 0]\n",
      "[0, 0, 0, 0, 0, 0, 0, 0, 0, 0]\n",
      "predic\n",
      "[0, 0, 0, 0, 0, 0, 0, 0, 0, 0]\n",
      "[[10  0]\n",
      " [ 0  0]]\n",
      "done iteration\n",
      "[[10  0]\n",
      " [ 0  0]]\n",
      "PPV_f and PPV_m is equal: True\n",
      "[0, 0, 0, 0, 0, 0, 0, 0, 0, 0]\n",
      "predic\n",
      "[0, 0, 0, 0, 0, 0, 0, 0, 0, 0]\n",
      "[[10  0]\n",
      " [ 0  0]]\n",
      "[[10  0]\n",
      " [ 0  0]]\n",
      "[[10  0]\n",
      " [ 0  0]]\n",
      "fpF: 0.0\n",
      "fpM: 0\n"
     ]
    },
    {
     "name": "stderr",
     "output_type": "stream",
     "text": [
      "C:\\Users\\nagel\\AppData\\Local\\Temp\\ipykernel_20828\\1038381496.py:8: RuntimeWarning: invalid value encountered in longlong_scalars\n",
      "  fnr_f = fn_f / (tp_f + fn_f)\n",
      "C:\\Users\\nagel\\AppData\\Local\\Temp\\ipykernel_20828\\398579461.py:10: RuntimeWarning: invalid value encountered in longlong_scalars\n",
      "  ppv_f = tp_f/(tp_f + fn_f)\n"
     ]
    },
    {
     "name": "stdout",
     "output_type": "stream",
     "text": [
      "done create embeding vectors\n",
      "[0 0 0 0 0 1 0 0 0 1 0 0 0 0 0 0 0 0 0 0 0 0 0 0 0 0 1 0 0 0 0 0]\n",
      "[0, 0, 0, 0, 0, 0, 0, 0, 0, 0]\n",
      "predic\n",
      "[0, 0, 0, 0, 0, 0, 0, 0, 0, 0]\n",
      "[[10  0]\n",
      " [ 0  0]]\n",
      "done iteration\n",
      "[[10  0]\n",
      " [ 0  0]]\n",
      "PPV_f and PPV_m is equal: True\n",
      "[0, 0, 0, 0, 0, 0, 0, 0, 0, 0]\n",
      "predic\n",
      "[0, 0, 0, 0, 0, 0, 0, 0, 0, 0]\n",
      "[[10  0]\n",
      " [ 0  0]]\n",
      "[[10  0]\n",
      " [ 0  0]]\n",
      "[[10  0]\n",
      " [ 0  0]]\n",
      "fpF: 0.0\n",
      "fpM: 0\n"
     ]
    },
    {
     "name": "stderr",
     "output_type": "stream",
     "text": [
      "C:\\Users\\nagel\\AppData\\Local\\Temp\\ipykernel_20828\\1038381496.py:8: RuntimeWarning: invalid value encountered in longlong_scalars\n",
      "  fnr_f = fn_f / (tp_f + fn_f)\n",
      "C:\\Users\\nagel\\AppData\\Local\\Temp\\ipykernel_20828\\398579461.py:10: RuntimeWarning: invalid value encountered in longlong_scalars\n",
      "  ppv_f = tp_f/(tp_f + fn_f)\n"
     ]
    },
    {
     "name": "stdout",
     "output_type": "stream",
     "text": [
      "done create embeding vectors\n",
      "[0 0 0 0 0 1 0 0 0 1 0 0 0 0 0 0 0 0 0 0 0 0 0 0 0 0 1 0 0 0 0 0]\n",
      "[0, 0, 0, 0, 0, 0, 0, 0, 0, 0]\n",
      "predic\n",
      "[0, 0, 0, 0, 0, 0, 0, 0, 0, 0]\n",
      "[[10  0]\n",
      " [ 0  0]]\n",
      "done iteration\n",
      "[[10  0]\n",
      " [ 0  0]]\n",
      "PPV_f and PPV_m is equal: True\n",
      "[0, 0, 0, 0, 0, 0, 0, 0, 0, 0]\n",
      "predic\n",
      "[0, 0, 0, 0, 0, 0, 0, 0, 0, 0]\n",
      "[[10  0]\n",
      " [ 0  0]]\n",
      "[[10  0]\n",
      " [ 0  0]]\n",
      "[[10  0]\n",
      " [ 0  0]]\n",
      "fpF: 0.0\n",
      "fpM: 0\n"
     ]
    },
    {
     "name": "stderr",
     "output_type": "stream",
     "text": [
      "C:\\Users\\nagel\\AppData\\Local\\Temp\\ipykernel_20828\\1038381496.py:8: RuntimeWarning: invalid value encountered in longlong_scalars\n",
      "  fnr_f = fn_f / (tp_f + fn_f)\n",
      "C:\\Users\\nagel\\AppData\\Local\\Temp\\ipykernel_20828\\398579461.py:10: RuntimeWarning: invalid value encountered in longlong_scalars\n",
      "  ppv_f = tp_f/(tp_f + fn_f)\n"
     ]
    },
    {
     "name": "stdout",
     "output_type": "stream",
     "text": [
      "done create embeding vectors\n",
      "[0 0 0 0 0 1 0 0 0 1 0 0 0 0 0 0 0 0 0 0 0 0 0 0 0 0 1 0 0 0 0 0]\n",
      "[0, 0, 0, 0, 0, 0, 0, 0, 0, 0]\n",
      "predic\n",
      "[0, 0, 0, 0, 0, 0, 0, 0, 0, 0]\n",
      "[[10  0]\n",
      " [ 0  0]]\n",
      "done iteration\n",
      "[[10  0]\n",
      " [ 0  0]]\n",
      "PPV_f and PPV_m is equal: True\n",
      "[0, 0, 0, 0, 0, 0, 0, 0, 0, 0]\n",
      "predic\n",
      "[0, 0, 0, 0, 0, 0, 0, 0, 0, 0]\n",
      "[[10  0]\n",
      " [ 0  0]]\n",
      "[[10  0]\n",
      " [ 0  0]]\n",
      "[[10  0]\n",
      " [ 0  0]]\n",
      "fpF: 0.0\n",
      "fpM: 0\n"
     ]
    },
    {
     "name": "stderr",
     "output_type": "stream",
     "text": [
      "C:\\Users\\nagel\\AppData\\Local\\Temp\\ipykernel_20828\\1038381496.py:8: RuntimeWarning: invalid value encountered in longlong_scalars\n",
      "  fnr_f = fn_f / (tp_f + fn_f)\n",
      "C:\\Users\\nagel\\AppData\\Local\\Temp\\ipykernel_20828\\398579461.py:10: RuntimeWarning: invalid value encountered in longlong_scalars\n",
      "  ppv_f = tp_f/(tp_f + fn_f)\n"
     ]
    },
    {
     "name": "stdout",
     "output_type": "stream",
     "text": [
      "done create embeding vectors\n",
      "[0 0 0 0 0 1 0 0 0 1 0 0 0 0 0 0 0 0 0 0 0 0 0 0 0 0 1 0 0 0 0 0]\n",
      "[0, 0, 0, 0, 0, 0, 0, 0, 0, 0]\n",
      "predic\n",
      "[0, 0, 0, 0, 0, 0, 0, 0, 0, 0]\n",
      "[[10  0]\n",
      " [ 0  0]]\n",
      "done iteration\n",
      "[[10  0]\n",
      " [ 0  0]]\n",
      "PPV_f and PPV_m is equal: True\n",
      "[0, 0, 0, 0, 0, 0, 0, 0, 0, 0]\n",
      "predic\n",
      "[0, 0, 0, 0, 0, 0, 0, 0, 0, 0]\n",
      "[[10  0]\n",
      " [ 0  0]]\n",
      "[[10  0]\n",
      " [ 0  0]]\n",
      "[[10  0]\n",
      " [ 0  0]]\n",
      "fpF: 0.0\n",
      "fpM: 0\n"
     ]
    },
    {
     "name": "stderr",
     "output_type": "stream",
     "text": [
      "C:\\Users\\nagel\\AppData\\Local\\Temp\\ipykernel_20828\\1038381496.py:8: RuntimeWarning: invalid value encountered in longlong_scalars\n",
      "  fnr_f = fn_f / (tp_f + fn_f)\n",
      "C:\\Users\\nagel\\AppData\\Local\\Temp\\ipykernel_20828\\398579461.py:10: RuntimeWarning: invalid value encountered in longlong_scalars\n",
      "  ppv_f = tp_f/(tp_f + fn_f)\n"
     ]
    }
   ],
   "source": [
    "# Beispielparameter-Raster\n",
    "parameter_grid = {\n",
    "    'dimensions': [16, 32],\n",
    "    'walk_length': [20, 30],\n",
    "    'walk_number': [25, 75],\n",
    "    'workers': [2, 4]\n",
    "}\n",
    "\n",
    "#apply AE embedding, find the best embedding with the grid search algorithm\n",
    "best_params, best_fpr_w,best_fpr_m, dataframe = grid_search_AE(x_Graph, coo_matrix,parameter_grid,  list(df_target), list_gender)"
   ]
  },
  {
   "cell_type": "code",
   "execution_count": 40,
   "id": "26c32dc9",
   "metadata": {},
   "outputs": [
    {
     "name": "stdout",
     "output_type": "stream",
     "text": [
      "{'dimensions': 16, 'walk_length': 20, 'walk_number': 25, 'workers': 2} 0.0 0                            Female  Male\n",
      "Group Fairness                0.0   0.0\n",
      "Predictive Parity             0.0   0.0\n",
      "False Positive Error Rate     0.0   0.0\n",
      "Equalized Opportunity         NaN   0.0\n",
      "Equalized Odds PPV            NaN   0.0\n",
      "Equalized Odds FPR            0.0   0.0\n"
     ]
    }
   ],
   "source": [
    "print(best_params, best_fpr_w,best_fpr_m, dataframe)"
   ]
  },
  {
   "cell_type": "code",
   "execution_count": 41,
   "id": "6732a638",
   "metadata": {},
   "outputs": [
    {
     "data": {
      "application/vnd.jupyter.widget-view+json": {
       "model_id": "1c585bde33524e579cace57ff33d2ec9",
       "version_major": 2,
       "version_minor": 0
      },
      "text/plain": [
       "Computing transition probabilities:   0%|          | 0/32 [00:00<?, ?it/s]"
      ]
     },
     "metadata": {},
     "output_type": "display_data"
    },
    {
     "name": "stdout",
     "output_type": "stream",
     "text": [
      "done create embeding vectors\n",
      "[0 0 0 0 0 1 0 0 0 1 0 0 0 0 0 0 0 0 0 0 0 0 0 0 0 0 1 0 0 0 0 0]\n",
      "[1, 0, 0, 0, 0, 0, 0, 0, 0, 0]\n",
      "predic\n",
      "[0, 0, 0, 0, 0, 0, 0, 0, 0, 0]\n",
      "[[9 0]\n",
      " [1 0]]\n",
      "done iteration\n",
      "[[9 0]\n",
      " [1 0]]\n",
      "PPV_f and PPV_m is equal: True\n",
      "[1, 0, 0, 0, 0, 0, 0, 0, 0, 0]\n",
      "predic\n",
      "[0, 0, 0, 0, 0, 0, 0, 0, 0, 0]\n",
      "[[9 0]\n",
      " [1 0]]\n",
      "[[9 0]\n",
      " [1 0]]\n",
      "[[9 0]\n",
      " [1 0]]\n",
      "fpF: 0.0\n",
      "fpM: 0\n"
     ]
    },
    {
     "data": {
      "application/vnd.jupyter.widget-view+json": {
       "model_id": "788a385166f444c6a3bcf6703452e6ad",
       "version_major": 2,
       "version_minor": 0
      },
      "text/plain": [
       "Computing transition probabilities:   0%|          | 0/32 [00:00<?, ?it/s]"
      ]
     },
     "metadata": {},
     "output_type": "display_data"
    },
    {
     "name": "stdout",
     "output_type": "stream",
     "text": [
      "done create embeding vectors\n",
      "[0 0 0 0 0 1 0 0 0 1 0 0 0 0 0 0 0 0 0 0 0 0 0 0 0 0 1 0 0 0 0 0]\n",
      "[0, 0, 0, 1, 0, 0, 0, 0, 0, 0]\n",
      "predic\n",
      "[0, 0, 0, 0, 0, 0, 0, 0, 0, 0]\n",
      "[[9 0]\n",
      " [1 0]]\n",
      "done iteration\n",
      "[[9 0]\n",
      " [1 0]]\n",
      "PPV_f and PPV_m is equal: True\n",
      "[0, 0, 0, 1, 0, 0, 0, 0, 0, 0]\n",
      "predic\n",
      "[0, 0, 0, 0, 0, 0, 0, 0, 0, 0]\n",
      "[[9 0]\n",
      " [1 0]]\n",
      "[[9 0]\n",
      " [1 0]]\n",
      "[[9 0]\n",
      " [1 0]]\n",
      "fpF: 0.0\n",
      "fpM: 0\n"
     ]
    },
    {
     "data": {
      "application/vnd.jupyter.widget-view+json": {
       "model_id": "6062978ffd4f426c839120d28fadb127",
       "version_major": 2,
       "version_minor": 0
      },
      "text/plain": [
       "Computing transition probabilities:   0%|          | 0/32 [00:00<?, ?it/s]"
      ]
     },
     "metadata": {},
     "output_type": "display_data"
    },
    {
     "name": "stdout",
     "output_type": "stream",
     "text": [
      "done create embeding vectors\n",
      "[0 0 0 0 0 1 0 0 0 1 0 0 0 0 0 0 0 0 0 0 0 0 0 0 0 0 1 0 0 0 0 0]\n",
      "[0, 0, 0, 0, 0, 0, 0, 0, 0, 0]\n",
      "predic\n",
      "[0, 0, 0, 0, 0, 0, 0, 0, 0, 0]\n",
      "[[10  0]\n",
      " [ 0  0]]\n",
      "done iteration\n",
      "[[10  0]\n",
      " [ 0  0]]\n",
      "PPV_f and PPV_m is equal: True\n",
      "[0, 0, 0, 0, 0, 0, 0, 0, 0, 0]\n",
      "predic\n",
      "[0, 0, 0, 0, 0, 0, 0, 0, 0, 0]\n",
      "[[10  0]\n",
      " [ 0  0]]\n",
      "[[10  0]\n",
      " [ 0  0]]\n",
      "[[10  0]\n",
      " [ 0  0]]\n",
      "fpF: 0.0\n",
      "fpM: 0\n"
     ]
    },
    {
     "name": "stderr",
     "output_type": "stream",
     "text": [
      "C:\\Users\\nagel\\AppData\\Local\\Temp\\ipykernel_20828\\1038381496.py:8: RuntimeWarning: invalid value encountered in longlong_scalars\n",
      "  fnr_f = fn_f / (tp_f + fn_f)\n",
      "C:\\Users\\nagel\\AppData\\Local\\Temp\\ipykernel_20828\\398579461.py:10: RuntimeWarning: invalid value encountered in longlong_scalars\n",
      "  ppv_f = tp_f/(tp_f + fn_f)\n"
     ]
    },
    {
     "data": {
      "application/vnd.jupyter.widget-view+json": {
       "model_id": "033e086471ab4821b40bfcc84c45ce33",
       "version_major": 2,
       "version_minor": 0
      },
      "text/plain": [
       "Computing transition probabilities:   0%|          | 0/32 [00:00<?, ?it/s]"
      ]
     },
     "metadata": {},
     "output_type": "display_data"
    },
    {
     "name": "stdout",
     "output_type": "stream",
     "text": [
      "done create embeding vectors\n",
      "[0 0 0 0 0 1 0 0 0 1 0 0 0 0 0 0 0 0 0 0 0 0 0 0 0 0 1 0 0 0 0 0]\n",
      "[0, 0, 0, 0, 0, 0, 0, 1, 0, 0]\n",
      "predic\n",
      "[0, 0, 0, 0, 0, 0, 0, 0, 0, 0]\n",
      "[[9 0]\n",
      " [1 0]]\n",
      "done iteration\n",
      "[[9 0]\n",
      " [1 0]]\n",
      "PPV_f and PPV_m is equal: True\n",
      "[0, 0, 0, 0, 0, 0, 0, 1, 0, 0]\n",
      "predic\n",
      "[0, 0, 0, 0, 0, 0, 0, 0, 0, 0]\n",
      "[[9 0]\n",
      " [1 0]]\n",
      "[[9 0]\n",
      " [1 0]]\n",
      "[[9 0]\n",
      " [1 0]]\n",
      "fpF: 0.0\n",
      "fpM: 0\n"
     ]
    },
    {
     "data": {
      "application/vnd.jupyter.widget-view+json": {
       "model_id": "c5218fa5a3bd42dd834349b861a54bb1",
       "version_major": 2,
       "version_minor": 0
      },
      "text/plain": [
       "Computing transition probabilities:   0%|          | 0/32 [00:00<?, ?it/s]"
      ]
     },
     "metadata": {},
     "output_type": "display_data"
    },
    {
     "name": "stdout",
     "output_type": "stream",
     "text": [
      "done create embeding vectors\n",
      "[0 0 0 0 0 1 0 0 0 1 0 0 0 0 0 0 0 0 0 0 0 0 0 0 0 0 1 0 0 0 0 0]\n",
      "[0, 0, 0, 0, 0, 0, 0, 0, 0, 0]\n",
      "predic\n",
      "[0, 0, 0, 0, 0, 0, 0, 0, 0, 0]\n",
      "[[10  0]\n",
      " [ 0  0]]\n",
      "done iteration\n",
      "[[10  0]\n",
      " [ 0  0]]\n",
      "PPV_f and PPV_m is equal: True\n",
      "[0, 0, 0, 0, 0, 0, 0, 0, 0, 0]\n",
      "predic\n",
      "[0, 0, 0, 0, 0, 0, 0, 0, 0, 0]\n",
      "[[10  0]\n",
      " [ 0  0]]\n",
      "[[10  0]\n",
      " [ 0  0]]\n",
      "[[10  0]\n",
      " [ 0  0]]\n",
      "fpF: 0.0\n",
      "fpM: 0\n"
     ]
    },
    {
     "name": "stderr",
     "output_type": "stream",
     "text": [
      "C:\\Users\\nagel\\AppData\\Local\\Temp\\ipykernel_20828\\1038381496.py:8: RuntimeWarning: invalid value encountered in longlong_scalars\n",
      "  fnr_f = fn_f / (tp_f + fn_f)\n",
      "C:\\Users\\nagel\\AppData\\Local\\Temp\\ipykernel_20828\\398579461.py:10: RuntimeWarning: invalid value encountered in longlong_scalars\n",
      "  ppv_f = tp_f/(tp_f + fn_f)\n"
     ]
    },
    {
     "data": {
      "application/vnd.jupyter.widget-view+json": {
       "model_id": "426c08f67927408aa7bbff4bb1aa98a5",
       "version_major": 2,
       "version_minor": 0
      },
      "text/plain": [
       "Computing transition probabilities:   0%|          | 0/32 [00:00<?, ?it/s]"
      ]
     },
     "metadata": {},
     "output_type": "display_data"
    },
    {
     "name": "stdout",
     "output_type": "stream",
     "text": [
      "done create embeding vectors\n",
      "[0 0 0 0 0 1 0 0 0 1 0 0 0 0 0 0 0 0 0 0 0 0 0 0 0 0 1 0 0 0 0 0]\n",
      "[0, 0, 0, 1, 0, 0, 0, 0, 0, 0]\n",
      "predic\n",
      "[0, 0, 0, 0, 0, 0, 0, 0, 1, 0]\n",
      "[[8 1]\n",
      " [1 0]]\n",
      "done iteration\n",
      "[[8 1]\n",
      " [1 0]]\n",
      "PPV_f and PPV_m is equal: True\n",
      "[0, 0, 0, 1, 0, 0, 0, 0, 0, 0]\n",
      "predic\n",
      "[0, 0, 0, 0, 0, 0, 0, 0, 1, 0]\n",
      "[[8 1]\n",
      " [1 0]]\n",
      "[[8 1]\n",
      " [1 0]]\n",
      "[[8 1]\n",
      " [1 0]]\n",
      "fpF: 0.1111111111111111\n",
      "fpM: 0\n"
     ]
    },
    {
     "data": {
      "application/vnd.jupyter.widget-view+json": {
       "model_id": "1f1627512edc49dbaba263274fd2cd43",
       "version_major": 2,
       "version_minor": 0
      },
      "text/plain": [
       "Computing transition probabilities:   0%|          | 0/32 [00:00<?, ?it/s]"
      ]
     },
     "metadata": {},
     "output_type": "display_data"
    },
    {
     "name": "stdout",
     "output_type": "stream",
     "text": [
      "done create embeding vectors\n",
      "[0 0 0 0 0 1 0 0 0 1 0 0 0 0 0 0 0 0 0 0 0 0 0 0 0 0 1 0 0 0 0 0]\n",
      "[0, 0, 0, 0, 0, 0, 0, 1, 0, 0]\n",
      "predic\n",
      "[0, 0, 0, 0, 0, 0, 0, 0, 0, 0]\n",
      "[[9 0]\n",
      " [1 0]]\n",
      "done iteration\n",
      "[[9 0]\n",
      " [1 0]]\n",
      "PPV_f and PPV_m is equal: True\n",
      "[0, 0, 0, 0, 0, 0, 0, 1, 0, 0]\n",
      "predic\n",
      "[0, 0, 0, 0, 0, 0, 0, 0, 0, 0]\n",
      "[[9 0]\n",
      " [1 0]]\n",
      "[[9 0]\n",
      " [1 0]]\n",
      "[[9 0]\n",
      " [1 0]]\n",
      "fpF: 0.0\n",
      "fpM: 0\n"
     ]
    },
    {
     "data": {
      "application/vnd.jupyter.widget-view+json": {
       "model_id": "8355976bd05c45aeb30158b5ae48ce21",
       "version_major": 2,
       "version_minor": 0
      },
      "text/plain": [
       "Computing transition probabilities:   0%|          | 0/32 [00:00<?, ?it/s]"
      ]
     },
     "metadata": {},
     "output_type": "display_data"
    },
    {
     "name": "stdout",
     "output_type": "stream",
     "text": [
      "done create embeding vectors\n",
      "[0 0 0 0 0 1 0 0 0 1 0 0 0 0 0 0 0 0 0 0 0 0 0 0 0 0 1 0 0 0 0 0]\n",
      "[0, 0, 0, 0, 0, 0, 0, 0, 0, 0]\n",
      "predic\n",
      "[0, 0, 0, 0, 0, 0, 0, 0, 0, 0]\n",
      "[[10  0]\n",
      " [ 0  0]]\n",
      "done iteration\n",
      "[[10  0]\n",
      " [ 0  0]]\n",
      "PPV_f and PPV_m is equal: True\n",
      "[0, 0, 0, 0, 0, 0, 0, 0, 0, 0]\n",
      "predic\n",
      "[0, 0, 0, 0, 0, 0, 0, 0, 0, 0]\n",
      "[[10  0]\n",
      " [ 0  0]]\n",
      "[[10  0]\n",
      " [ 0  0]]\n",
      "[[10  0]\n",
      " [ 0  0]]\n",
      "fpF: 0.0\n",
      "fpM: 0\n"
     ]
    },
    {
     "name": "stderr",
     "output_type": "stream",
     "text": [
      "C:\\Users\\nagel\\AppData\\Local\\Temp\\ipykernel_20828\\1038381496.py:8: RuntimeWarning: invalid value encountered in longlong_scalars\n",
      "  fnr_f = fn_f / (tp_f + fn_f)\n",
      "C:\\Users\\nagel\\AppData\\Local\\Temp\\ipykernel_20828\\398579461.py:10: RuntimeWarning: invalid value encountered in longlong_scalars\n",
      "  ppv_f = tp_f/(tp_f + fn_f)\n"
     ]
    },
    {
     "data": {
      "application/vnd.jupyter.widget-view+json": {
       "model_id": "eb744585b500422d9145379a3d553e3c",
       "version_major": 2,
       "version_minor": 0
      },
      "text/plain": [
       "Computing transition probabilities:   0%|          | 0/32 [00:00<?, ?it/s]"
      ]
     },
     "metadata": {},
     "output_type": "display_data"
    },
    {
     "name": "stdout",
     "output_type": "stream",
     "text": [
      "done create embeding vectors\n",
      "[0 0 0 0 0 1 0 0 0 1 0 0 0 0 0 0 0 0 0 0 0 0 0 0 0 0 1 0 0 0 0 0]\n",
      "[0, 0, 0, 0, 0, 0, 0, 0, 0, 0]\n",
      "predic\n",
      "[0, 0, 0, 0, 0, 0, 0, 0, 0, 0]\n",
      "[[10  0]\n",
      " [ 0  0]]\n",
      "done iteration\n",
      "[[10  0]\n",
      " [ 0  0]]\n",
      "PPV_f and PPV_m is equal: True\n",
      "[0, 0, 0, 0, 0, 0, 0, 0, 0, 0]\n",
      "predic\n",
      "[0, 0, 0, 0, 0, 0, 0, 0, 0, 0]\n",
      "[[10  0]\n",
      " [ 0  0]]\n",
      "[[10  0]\n",
      " [ 0  0]]\n",
      "[[10  0]\n",
      " [ 0  0]]\n",
      "fpF: 0.0\n",
      "fpM: 0\n"
     ]
    },
    {
     "name": "stderr",
     "output_type": "stream",
     "text": [
      "C:\\Users\\nagel\\AppData\\Local\\Temp\\ipykernel_20828\\1038381496.py:8: RuntimeWarning: invalid value encountered in longlong_scalars\n",
      "  fnr_f = fn_f / (tp_f + fn_f)\n",
      "C:\\Users\\nagel\\AppData\\Local\\Temp\\ipykernel_20828\\398579461.py:10: RuntimeWarning: invalid value encountered in longlong_scalars\n",
      "  ppv_f = tp_f/(tp_f + fn_f)\n"
     ]
    },
    {
     "data": {
      "application/vnd.jupyter.widget-view+json": {
       "model_id": "0727dd0b23cf4a3d8e935e2f3ed4aa31",
       "version_major": 2,
       "version_minor": 0
      },
      "text/plain": [
       "Computing transition probabilities:   0%|          | 0/32 [00:00<?, ?it/s]"
      ]
     },
     "metadata": {},
     "output_type": "display_data"
    },
    {
     "name": "stdout",
     "output_type": "stream",
     "text": [
      "done create embeding vectors\n",
      "[0 0 0 0 0 1 0 0 0 1 0 0 0 0 0 0 0 0 0 0 0 0 0 0 0 0 1 0 0 0 0 0]\n",
      "[0, 0, 0, 0, 0, 0, 0, 0, 0, 0]\n",
      "predic\n",
      "[0, 0, 0, 0, 0, 0, 0, 0, 0, 0]\n",
      "[[10  0]\n",
      " [ 0  0]]\n",
      "done iteration\n",
      "[[10  0]\n",
      " [ 0  0]]\n",
      "PPV_f and PPV_m is equal: True\n",
      "[0, 0, 0, 0, 0, 0, 0, 0, 0, 0]\n",
      "predic\n",
      "[0, 0, 0, 0, 0, 0, 0, 0, 0, 0]\n",
      "[[10  0]\n",
      " [ 0  0]]\n",
      "[[10  0]\n",
      " [ 0  0]]\n",
      "[[10  0]\n",
      " [ 0  0]]\n",
      "fpF: 0.0\n",
      "fpM: 0\n"
     ]
    },
    {
     "name": "stderr",
     "output_type": "stream",
     "text": [
      "C:\\Users\\nagel\\AppData\\Local\\Temp\\ipykernel_20828\\1038381496.py:8: RuntimeWarning: invalid value encountered in longlong_scalars\n",
      "  fnr_f = fn_f / (tp_f + fn_f)\n",
      "C:\\Users\\nagel\\AppData\\Local\\Temp\\ipykernel_20828\\398579461.py:10: RuntimeWarning: invalid value encountered in longlong_scalars\n",
      "  ppv_f = tp_f/(tp_f + fn_f)\n"
     ]
    },
    {
     "data": {
      "application/vnd.jupyter.widget-view+json": {
       "model_id": "18977fff285a46dba3aa7decdd69347d",
       "version_major": 2,
       "version_minor": 0
      },
      "text/plain": [
       "Computing transition probabilities:   0%|          | 0/32 [00:00<?, ?it/s]"
      ]
     },
     "metadata": {},
     "output_type": "display_data"
    },
    {
     "name": "stdout",
     "output_type": "stream",
     "text": [
      "done create embeding vectors\n",
      "[0 0 0 0 0 1 0 0 0 1 0 0 0 0 0 0 0 0 0 0 0 0 0 0 0 0 1 0 0 0 0 0]\n",
      "[0, 0, 0, 0, 0, 0, 0, 0, 0, 0]\n",
      "predic\n",
      "[0, 0, 0, 0, 0, 0, 0, 0, 0, 0]\n",
      "[[10  0]\n",
      " [ 0  0]]\n",
      "done iteration\n",
      "[[10  0]\n",
      " [ 0  0]]\n",
      "PPV_f and PPV_m is equal: True\n",
      "[0, 0, 0, 0, 0, 0, 0, 0, 0, 0]\n",
      "predic\n",
      "[0, 0, 0, 0, 0, 0, 0, 0, 0, 0]\n",
      "[[10  0]\n",
      " [ 0  0]]\n",
      "[[10  0]\n",
      " [ 0  0]]\n",
      "[[10  0]\n",
      " [ 0  0]]\n",
      "fpF: 0.0\n",
      "fpM: 0\n"
     ]
    },
    {
     "name": "stderr",
     "output_type": "stream",
     "text": [
      "C:\\Users\\nagel\\AppData\\Local\\Temp\\ipykernel_20828\\1038381496.py:8: RuntimeWarning: invalid value encountered in longlong_scalars\n",
      "  fnr_f = fn_f / (tp_f + fn_f)\n",
      "C:\\Users\\nagel\\AppData\\Local\\Temp\\ipykernel_20828\\398579461.py:10: RuntimeWarning: invalid value encountered in longlong_scalars\n",
      "  ppv_f = tp_f/(tp_f + fn_f)\n"
     ]
    },
    {
     "data": {
      "application/vnd.jupyter.widget-view+json": {
       "model_id": "313ca9f9cba8414cbbe282cf0cfc939d",
       "version_major": 2,
       "version_minor": 0
      },
      "text/plain": [
       "Computing transition probabilities:   0%|          | 0/32 [00:00<?, ?it/s]"
      ]
     },
     "metadata": {},
     "output_type": "display_data"
    },
    {
     "name": "stdout",
     "output_type": "stream",
     "text": [
      "done create embeding vectors\n",
      "[0 0 0 0 0 1 0 0 0 1 0 0 0 0 0 0 0 0 0 0 0 0 0 0 0 0 1 0 0 0 0 0]\n",
      "[0, 0, 1, 0, 0, 0, 0, 0, 0, 0]\n",
      "predic\n",
      "[0, 0, 0, 0, 0, 0, 0, 0, 0, 0]\n",
      "[[9 0]\n",
      " [1 0]]\n",
      "done iteration\n",
      "[[9 0]\n",
      " [1 0]]\n",
      "PPV_f and PPV_m is equal: True\n",
      "[0, 0, 1, 0, 0, 0, 0, 0, 0, 0]\n",
      "predic\n",
      "[0, 0, 0, 0, 0, 0, 0, 0, 0, 0]\n",
      "[[9 0]\n",
      " [1 0]]\n",
      "[[9 0]\n",
      " [1 0]]\n",
      "[[9 0]\n",
      " [1 0]]\n",
      "fpF: 0.0\n",
      "fpM: 0\n"
     ]
    },
    {
     "data": {
      "application/vnd.jupyter.widget-view+json": {
       "model_id": "5e0248289ca54df1a2dd628e0d20dd10",
       "version_major": 2,
       "version_minor": 0
      },
      "text/plain": [
       "Computing transition probabilities:   0%|          | 0/32 [00:00<?, ?it/s]"
      ]
     },
     "metadata": {},
     "output_type": "display_data"
    },
    {
     "name": "stdout",
     "output_type": "stream",
     "text": [
      "done create embeding vectors\n",
      "[0 0 0 0 0 1 0 0 0 1 0 0 0 0 0 0 0 0 0 0 0 0 0 0 0 0 1 0 0 0 0 0]\n",
      "[0, 0, 0, 0, 0, 0, 0, 0, 0, 0]\n",
      "predic\n",
      "[0, 0, 0, 0, 0, 0, 0, 0, 0, 0]\n",
      "[[10  0]\n",
      " [ 0  0]]\n",
      "done iteration\n",
      "[[10  0]\n",
      " [ 0  0]]\n",
      "PPV_f and PPV_m is equal: True\n",
      "[0, 0, 0, 0, 0, 0, 0, 0, 0, 0]\n",
      "predic\n",
      "[0, 0, 0, 0, 0, 0, 0, 0, 0, 0]\n",
      "[[10  0]\n",
      " [ 0  0]]\n",
      "[[10  0]\n",
      " [ 0  0]]\n",
      "[[10  0]\n",
      " [ 0  0]]\n",
      "fpF: 0.0\n",
      "fpM: 0\n"
     ]
    },
    {
     "name": "stderr",
     "output_type": "stream",
     "text": [
      "C:\\Users\\nagel\\AppData\\Local\\Temp\\ipykernel_20828\\1038381496.py:8: RuntimeWarning: invalid value encountered in longlong_scalars\n",
      "  fnr_f = fn_f / (tp_f + fn_f)\n",
      "C:\\Users\\nagel\\AppData\\Local\\Temp\\ipykernel_20828\\398579461.py:10: RuntimeWarning: invalid value encountered in longlong_scalars\n",
      "  ppv_f = tp_f/(tp_f + fn_f)\n"
     ]
    },
    {
     "data": {
      "application/vnd.jupyter.widget-view+json": {
       "model_id": "3cd50717e69b4e40a49015aa96bb1f52",
       "version_major": 2,
       "version_minor": 0
      },
      "text/plain": [
       "Computing transition probabilities:   0%|          | 0/32 [00:00<?, ?it/s]"
      ]
     },
     "metadata": {},
     "output_type": "display_data"
    },
    {
     "name": "stdout",
     "output_type": "stream",
     "text": [
      "done create embeding vectors\n",
      "[0 0 0 0 0 1 0 0 0 1 0 0 0 0 0 0 0 0 0 0 0 0 0 0 0 0 1 0 0 0 0 0]\n",
      "[0, 0, 1, 0, 0, 0, 0, 0, 0, 0]\n",
      "predic\n",
      "[0, 0, 0, 0, 0, 0, 0, 0, 0, 0]\n",
      "[[9 0]\n",
      " [1 0]]\n",
      "done iteration\n",
      "[[9 0]\n",
      " [1 0]]\n",
      "PPV_f and PPV_m is equal: True\n",
      "[0, 0, 1, 0, 0, 0, 0, 0, 0, 0]\n",
      "predic\n",
      "[0, 0, 0, 0, 0, 0, 0, 0, 0, 0]\n",
      "[[9 0]\n",
      " [1 0]]\n",
      "[[9 0]\n",
      " [1 0]]\n",
      "[[9 0]\n",
      " [1 0]]\n",
      "fpF: 0.0\n",
      "fpM: 0\n"
     ]
    },
    {
     "data": {
      "application/vnd.jupyter.widget-view+json": {
       "model_id": "771250a68cb44b5da6df0108b8ccf902",
       "version_major": 2,
       "version_minor": 0
      },
      "text/plain": [
       "Computing transition probabilities:   0%|          | 0/32 [00:00<?, ?it/s]"
      ]
     },
     "metadata": {},
     "output_type": "display_data"
    },
    {
     "name": "stdout",
     "output_type": "stream",
     "text": [
      "done create embeding vectors\n",
      "[0 0 0 0 0 1 0 0 0 1 0 0 0 0 0 0 0 0 0 0 0 0 0 0 0 0 1 0 0 0 0 0]\n",
      "[0, 0, 0, 0, 0, 0, 0, 0, 0, 0]\n",
      "predic\n",
      "[0, 0, 0, 0, 0, 0, 0, 0, 0, 0]\n",
      "[[10  0]\n",
      " [ 0  0]]\n",
      "done iteration\n",
      "[[10  0]\n",
      " [ 0  0]]\n",
      "PPV_f and PPV_m is equal: True\n",
      "[0, 0, 0, 0, 0, 0, 0, 0, 0, 0]\n",
      "predic\n",
      "[0, 0, 0, 0, 0, 0, 0, 0, 0, 0]\n",
      "[[10  0]\n",
      " [ 0  0]]\n",
      "[[10  0]\n",
      " [ 0  0]]\n",
      "[[10  0]\n",
      " [ 0  0]]\n",
      "fpF: 0.0\n",
      "fpM: 0\n"
     ]
    },
    {
     "name": "stderr",
     "output_type": "stream",
     "text": [
      "C:\\Users\\nagel\\AppData\\Local\\Temp\\ipykernel_20828\\1038381496.py:8: RuntimeWarning: invalid value encountered in longlong_scalars\n",
      "  fnr_f = fn_f / (tp_f + fn_f)\n",
      "C:\\Users\\nagel\\AppData\\Local\\Temp\\ipykernel_20828\\398579461.py:10: RuntimeWarning: invalid value encountered in longlong_scalars\n",
      "  ppv_f = tp_f/(tp_f + fn_f)\n"
     ]
    },
    {
     "data": {
      "application/vnd.jupyter.widget-view+json": {
       "model_id": "7ff0a7a528f140bdbb737928de0e2ef2",
       "version_major": 2,
       "version_minor": 0
      },
      "text/plain": [
       "Computing transition probabilities:   0%|          | 0/32 [00:00<?, ?it/s]"
      ]
     },
     "metadata": {},
     "output_type": "display_data"
    },
    {
     "name": "stdout",
     "output_type": "stream",
     "text": [
      "done create embeding vectors\n",
      "[0 0 0 0 0 1 0 0 0 1 0 0 0 0 0 0 0 0 0 0 0 0 0 0 0 0 1 0 0 0 0 0]\n",
      "[0, 0, 0, 0, 0, 0, 0, 0, 0, 0]\n",
      "predic\n",
      "[0, 0, 0, 0, 0, 0, 0, 0, 0, 0]\n",
      "[[10  0]\n",
      " [ 0  0]]\n",
      "done iteration\n",
      "[[10  0]\n",
      " [ 0  0]]\n",
      "PPV_f and PPV_m is equal: True\n",
      "[0, 0, 0, 0, 0, 0, 0, 0, 0, 0]\n",
      "predic\n",
      "[0, 0, 0, 0, 0, 0, 0, 0, 0, 0]\n",
      "[[10  0]\n",
      " [ 0  0]]\n",
      "[[10  0]\n",
      " [ 0  0]]\n",
      "[[10  0]\n",
      " [ 0  0]]\n",
      "fpF: 0.0\n",
      "fpM: 0\n"
     ]
    },
    {
     "name": "stderr",
     "output_type": "stream",
     "text": [
      "C:\\Users\\nagel\\AppData\\Local\\Temp\\ipykernel_20828\\1038381496.py:8: RuntimeWarning: invalid value encountered in longlong_scalars\n",
      "  fnr_f = fn_f / (tp_f + fn_f)\n",
      "C:\\Users\\nagel\\AppData\\Local\\Temp\\ipykernel_20828\\398579461.py:10: RuntimeWarning: invalid value encountered in longlong_scalars\n",
      "  ppv_f = tp_f/(tp_f + fn_f)\n"
     ]
    }
   ],
   "source": [
    "# Parameter\n",
    "parameter_grid = {\n",
    "    'dimensions': [16, 32],\n",
    "    'walk_length': [20, 30],\n",
    "    'num_walks': [25, 75],\n",
    "    'workers': [2, 4]\n",
    "}\n",
    "\n",
    "#apply Node2Vec embedding, find the best embedding with the grid search algorithm\n",
    "best_params, best_fpr_w,best_fpr_m, dataframe = perform_grid_search(G_new, parameter_grid, list(df_target), list(df_name))\n"
   ]
  },
  {
   "cell_type": "code",
   "execution_count": 42,
   "id": "49addd76",
   "metadata": {},
   "outputs": [
    {
     "name": "stdout",
     "output_type": "stream",
     "text": [
      "Best Parameters: {'dimensions': 16, 'num_walks': 25, 'walk_length': 20, 'workers': 2}\n",
      "Best Fpr_w: 0.0\n",
      "Best Fpr_m: 0\n"
     ]
    }
   ],
   "source": [
    "print(f\"Best Parameters: {best_params}\")\n",
    "print(f\"Best Fpr_w: {best_fpr_w}\")\n",
    "print(f\"Best Fpr_m: {best_fpr_m}\")"
   ]
  },
  {
   "cell_type": "code",
   "execution_count": 43,
   "id": "22a372e9",
   "metadata": {},
   "outputs": [
    {
     "name": "stdout",
     "output_type": "stream",
     "text": [
      "                           Female  Male\n",
      "Group Fairness                0.0   0.0\n",
      "Predictive Parity             0.0   0.0\n",
      "False Positive Error Rate     0.0   0.0\n",
      "Equalized Opportunity         1.0   0.0\n",
      "Equalized Odds PPV            0.0   0.0\n",
      "Equalized Odds FPR            0.0   0.0\n"
     ]
    }
   ],
   "source": [
    "print(dataframe)"
   ]
  },
  {
   "cell_type": "code",
   "execution_count": 44,
   "id": "1cb602c7",
   "metadata": {},
   "outputs": [
    {
     "name": "stdout",
     "output_type": "stream",
     "text": [
      "25\n",
      "20\n",
      "16\n"
     ]
    },
    {
     "name": "stderr",
     "output_type": "stream",
     "text": [
      "100%|█████████████████████████████████████████████████████████████████████████████████████████████████████████████████████████████████████████████████████| 32/32 [00:00<00:00, 761.75it/s]\n"
     ]
    },
    {
     "name": "stdout",
     "output_type": "stream",
     "text": [
      "[0 0 0 0 0 1 0 0 0 1 0 0 0 0 0 0 0 0 0 0 0 0 0 0 0 0 1 0 0 0 0 0]\n",
      "[0, 0, 0, 0, 0, 0, 0, 0, 1, 0]\n",
      "predic\n",
      "[0, 0, 0, 0, 0, 0, 0, 0, 0, 0]\n",
      "[[9 0]\n",
      " [1 0]]\n",
      "fpF: 0.0\n",
      "fpM: 0\n",
      "[[9 0]\n",
      " [1 0]]\n",
      "PPV_f and PPV_m is equal: True\n",
      "[0, 0, 0, 0, 0, 0, 0, 0, 1, 0]\n",
      "predic\n",
      "[0, 0, 0, 0, 0, 0, 0, 0, 0, 0]\n",
      "[[9 0]\n",
      " [1 0]]\n",
      "[[9 0]\n",
      " [1 0]]\n",
      "[[9 0]\n",
      " [1 0]]\n",
      "25\n",
      "20\n",
      "32\n"
     ]
    },
    {
     "name": "stderr",
     "output_type": "stream",
     "text": [
      "100%|█████████████████████████████████████████████████████████████████████████████████████████████████████████████████████████████████████████████████████| 32/32 [00:00<00:00, 941.05it/s]\n"
     ]
    },
    {
     "name": "stdout",
     "output_type": "stream",
     "text": [
      "[0 0 0 0 0 1 0 0 0 1 0 0 0 0 0 0 0 0 0 0 0 0 0 0 0 0 1 0 0 0 0 0]\n",
      "[0, 0, 0, 0, 1, 0, 0, 0, 0, 0]\n",
      "predic\n",
      "[0, 0, 0, 0, 0, 0, 0, 0, 0, 0]\n",
      "[[9 0]\n",
      " [1 0]]\n",
      "fpF: 0.0\n",
      "fpM: 0\n",
      "[[9 0]\n",
      " [1 0]]\n",
      "PPV_f and PPV_m is equal: True\n",
      "[0, 0, 0, 0, 1, 0, 0, 0, 0, 0]\n",
      "predic\n",
      "[0, 0, 0, 0, 0, 0, 0, 0, 0, 0]\n",
      "[[9 0]\n",
      " [1 0]]\n",
      "[[9 0]\n",
      " [1 0]]\n",
      "[[9 0]\n",
      " [1 0]]\n",
      "25\n",
      "30\n",
      "16\n"
     ]
    },
    {
     "name": "stderr",
     "output_type": "stream",
     "text": [
      "100%|█████████████████████████████████████████████████████████████████████████████████████████████████████████████████████████████████████████████████████| 32/32 [00:00<00:00, 708.50it/s]\n"
     ]
    },
    {
     "name": "stdout",
     "output_type": "stream",
     "text": [
      "[0 0 0 0 0 1 0 0 0 1 0 0 0 0 0 0 0 0 0 0 0 0 0 0 0 0 1 0 0 0 0 0]\n",
      "[0, 0, 0, 0, 0, 0, 0, 0, 0, 1]\n",
      "predic\n",
      "[0, 0, 0, 0, 0, 0, 0, 0, 0, 0]\n",
      "[[9 0]\n",
      " [1 0]]\n",
      "fpF: 0.0\n",
      "fpM: 0\n",
      "[[9 0]\n",
      " [1 0]]\n",
      "PPV_f and PPV_m is equal: True\n",
      "[0, 0, 0, 0, 0, 0, 0, 0, 0, 1]\n",
      "predic\n",
      "[0, 0, 0, 0, 0, 0, 0, 0, 0, 0]\n",
      "[[9 0]\n",
      " [1 0]]\n",
      "[[9 0]\n",
      " [1 0]]\n",
      "[[9 0]\n",
      " [1 0]]\n",
      "25\n",
      "30\n",
      "32\n"
     ]
    },
    {
     "name": "stderr",
     "output_type": "stream",
     "text": [
      "100%|█████████████████████████████████████████████████████████████████████████████████████████████████████████████████████████████████████████████████████| 32/32 [00:00<00:00, 914.31it/s]\n"
     ]
    },
    {
     "name": "stdout",
     "output_type": "stream",
     "text": [
      "[0 0 0 0 0 1 0 0 0 1 0 0 0 0 0 0 0 0 0 0 0 0 0 0 0 0 1 0 0 0 0 0]\n",
      "[0, 0, 1, 0, 0, 0, 0, 0, 1, 0]\n",
      "predic\n",
      "[0, 0, 0, 0, 0, 0, 0, 0, 0, 0]\n",
      "[[8 0]\n",
      " [2 0]]\n",
      "fpF: 0.0\n",
      "fpM: 0\n",
      "[[8 0]\n",
      " [2 0]]\n",
      "PPV_f and PPV_m is equal: True\n",
      "[0, 0, 1, 0, 0, 0, 0, 0, 1, 0]\n",
      "predic\n",
      "[0, 0, 0, 0, 0, 0, 0, 0, 0, 0]\n",
      "[[8 0]\n",
      " [2 0]]\n",
      "[[8 0]\n",
      " [2 0]]\n",
      "[[8 0]\n",
      " [2 0]]\n",
      "75\n",
      "20\n",
      "16\n"
     ]
    },
    {
     "name": "stderr",
     "output_type": "stream",
     "text": [
      "100%|█████████████████████████████████████████████████████████████████████████████████████████████████████████████████████████████████████████████████████| 32/32 [00:00<00:00, 180.87it/s]\n"
     ]
    },
    {
     "name": "stdout",
     "output_type": "stream",
     "text": [
      "[0 0 0 0 0 1 0 0 0 1 0 0 0 0 0 0 0 0 0 0 0 0 0 0 0 0 1 0 0 0 0 0]\n",
      "[0, 0, 0, 1, 0, 0, 0, 0, 0, 0]\n",
      "predic\n",
      "[0, 0, 0, 0, 0, 0, 0, 0, 0, 0]\n",
      "[[9 0]\n",
      " [1 0]]\n",
      "fpF: 0.0\n",
      "fpM: 0\n",
      "[[9 0]\n",
      " [1 0]]\n",
      "PPV_f and PPV_m is equal: True\n",
      "[0, 0, 0, 1, 0, 0, 0, 0, 0, 0]\n",
      "predic\n",
      "[0, 0, 0, 0, 0, 0, 0, 0, 0, 0]\n",
      "[[9 0]\n",
      " [1 0]]\n",
      "[[9 0]\n",
      " [1 0]]\n",
      "[[9 0]\n",
      " [1 0]]\n",
      "75\n",
      "20\n",
      "32\n"
     ]
    },
    {
     "name": "stderr",
     "output_type": "stream",
     "text": [
      "100%|█████████████████████████████████████████████████████████████████████████████████████████████████████████████████████████████████████████████████████| 32/32 [00:00<00:00, 254.61it/s]\n",
      "C:\\Users\\nagel\\AppData\\Local\\Temp\\ipykernel_20828\\1038381496.py:8: RuntimeWarning: invalid value encountered in longlong_scalars\n",
      "  fnr_f = fn_f / (tp_f + fn_f)\n",
      "C:\\Users\\nagel\\AppData\\Local\\Temp\\ipykernel_20828\\398579461.py:10: RuntimeWarning: invalid value encountered in longlong_scalars\n",
      "  ppv_f = tp_f/(tp_f + fn_f)\n"
     ]
    },
    {
     "name": "stdout",
     "output_type": "stream",
     "text": [
      "[0 0 0 0 0 1 0 0 0 1 0 0 0 0 0 0 0 0 0 0 0 0 0 0 0 0 1 0 0 0 0 0]\n",
      "[0, 0, 0, 0, 0, 0, 0, 0, 0, 0]\n",
      "predic\n",
      "[0, 0, 0, 0, 0, 0, 0, 0, 0, 0]\n",
      "[[10  0]\n",
      " [ 0  0]]\n",
      "fpF: 0.0\n",
      "fpM: 0\n",
      "[[10  0]\n",
      " [ 0  0]]\n",
      "PPV_f and PPV_m is equal: True\n",
      "[0, 0, 0, 0, 0, 0, 0, 0, 0, 0]\n",
      "predic\n",
      "[0, 0, 0, 0, 0, 0, 0, 0, 0, 0]\n",
      "[[10  0]\n",
      " [ 0  0]]\n",
      "[[10  0]\n",
      " [ 0  0]]\n",
      "[[10  0]\n",
      " [ 0  0]]\n",
      "75\n",
      "30\n",
      "16\n"
     ]
    },
    {
     "name": "stderr",
     "output_type": "stream",
     "text": [
      "100%|█████████████████████████████████████████████████████████████████████████████████████████████████████████████████████████████████████████████████████| 32/32 [00:00<00:00, 189.08it/s]\n"
     ]
    },
    {
     "name": "stdout",
     "output_type": "stream",
     "text": [
      "[0 0 0 0 0 1 0 0 0 1 0 0 0 0 0 0 0 0 0 0 0 0 0 0 0 0 1 0 0 0 0 0]\n",
      "[0, 0, 0, 0, 0, 0, 0, 0, 0, 1]\n",
      "predic\n",
      "[0, 0, 0, 0, 0, 0, 0, 0, 0, 0]\n",
      "[[9 0]\n",
      " [1 0]]\n",
      "fpF: 0.0\n",
      "fpM: 0\n",
      "[[9 0]\n",
      " [1 0]]\n",
      "PPV_f and PPV_m is equal: True\n",
      "[0, 0, 0, 0, 0, 0, 0, 0, 0, 1]\n",
      "predic\n",
      "[0, 0, 0, 0, 0, 0, 0, 0, 0, 0]\n",
      "[[9 0]\n",
      " [1 0]]\n",
      "[[9 0]\n",
      " [1 0]]\n",
      "[[9 0]\n",
      " [1 0]]\n",
      "75\n",
      "30\n",
      "32\n"
     ]
    },
    {
     "name": "stderr",
     "output_type": "stream",
     "text": [
      "100%|█████████████████████████████████████████████████████████████████████████████████████████████████████████████████████████████████████████████████████| 32/32 [00:00<00:00, 146.68it/s]\n"
     ]
    },
    {
     "name": "stdout",
     "output_type": "stream",
     "text": [
      "[0 0 0 0 0 1 0 0 0 1 0 0 0 0 0 0 0 0 0 0 0 0 0 0 0 0 1 0 0 0 0 0]\n",
      "[0, 0, 0, 0, 0, 0, 0, 0, 0, 1]\n",
      "predic\n",
      "[0, 0, 0, 0, 0, 0, 0, 0, 0, 0]\n",
      "[[9 0]\n",
      " [1 0]]\n",
      "fpF: 0.0\n",
      "fpM: 0\n",
      "[[9 0]\n",
      " [1 0]]\n",
      "PPV_f and PPV_m is equal: True\n",
      "[0, 0, 0, 0, 0, 0, 0, 0, 0, 1]\n",
      "predic\n",
      "[0, 0, 0, 0, 0, 0, 0, 0, 0, 0]\n",
      "[[9 0]\n",
      " [1 0]]\n",
      "[[9 0]\n",
      " [1 0]]\n",
      "[[9 0]\n",
      " [1 0]]\n"
     ]
    }
   ],
   "source": [
    "# Parameter\n",
    "parameter_grid = {\n",
    "    'window': [16, 32],\n",
    "    'walk_length': [20, 30],\n",
    "    'number_of_random_walks': [25, 75],\n",
    "}\n",
    "#apply DeepWalk embedding, find the best embedding with the grid search algorithm\n",
    "best_params, best_fpr_f,best_fpr_m, dataframe =  perform_grid_search_DeepWalk(G_new, parameter_grid, list(df_target), list(df_name))"
   ]
  },
  {
   "cell_type": "code",
   "execution_count": 45,
   "id": "03e66c4e",
   "metadata": {},
   "outputs": [
    {
     "name": "stdout",
     "output_type": "stream",
     "text": [
      "Best Parameters: {'number_of_random_walks': 25, 'walk_length': 20, 'window': 16}\n",
      "Best Fpr: 0.0\n",
      "Best Fpr: 0\n",
      "                           Female  Male\n",
      "Group Fairness                0.0   0.0\n",
      "Predictive Parity             0.0   0.0\n",
      "False Positive Error Rate     0.0   0.0\n",
      "Equalized Opportunity         1.0   0.0\n",
      "Equalized Odds PPV            0.0   0.0\n",
      "Equalized Odds FPR            0.0   0.0\n"
     ]
    }
   ],
   "source": [
    "print(f\"Best Parameters: {best_params}\")\n",
    "print(f\"Best Fpr: {best_fpr_f}\")\n",
    "print(f\"Best Fpr: {best_fpr_m}\")\n",
    "print(dataframe)"
   ]
  }
 ],
 "metadata": {
  "kernelspec": {
   "display_name": "Python 3 (ipykernel)",
   "language": "python",
   "name": "python3"
  },
  "language_info": {
   "codemirror_mode": {
    "name": "ipython",
    "version": 3
   },
   "file_extension": ".py",
   "mimetype": "text/x-python",
   "name": "python",
   "nbconvert_exporter": "python",
   "pygments_lexer": "ipython3",
   "version": "3.8.18"
  }
 },
 "nbformat": 4,
 "nbformat_minor": 5
}
